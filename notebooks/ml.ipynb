{
 "cells": [
  {
   "cell_type": "markdown",
   "metadata": {},
   "source": [
    "# Libraries"
   ]
  },
  {
   "cell_type": "code",
   "execution_count": 1,
   "metadata": {},
   "outputs": [],
   "source": [
    "import pandas as pd\n",
    "import os\n",
    "\n",
    "#logistic regression\n",
    "from sklearn.model_selection import cross_validate\n",
    "from sklearn.linear_model import LogisticRegression"
   ]
  },
  {
   "cell_type": "markdown",
   "metadata": {},
   "source": [
    "# Read data"
   ]
  },
  {
   "cell_type": "code",
   "execution_count": 5,
   "metadata": {},
   "outputs": [],
   "source": [
    "# fetch all the data from the raw_data folder\n",
    "current_dir = os.getcwd()\n",
    "current_dir\n",
    "\n",
    "file_path = os.path.join(current_dir, 'raw_data','', 'data.csv')\n",
    "df = pd.read_csv(file_path)"
   ]
  },
  {
   "cell_type": "markdown",
   "metadata": {},
   "source": [
    "# Getting the data"
   ]
  },
  {
   "cell_type": "code",
   "execution_count": 13,
   "metadata": {},
   "outputs": [],
   "source": [
    "columns_keep = [\n",
    "#'division_number',\n",
    "#'date_reported',\n",
    "'date_occurred',\n",
    "#'area',\n",
    "'area_name',\n",
    "#'reporting_district',\n",
    "#'part',\n",
    "#'crime_code',\n",
    "'crime_description',\n",
    "#'modus_operandi',\n",
    "'victim_age',\n",
    "'victim_sex',\n",
    "'victim_descent',\n",
    "#'premise_code',\n",
    "'premise_description',\n",
    "#'weapon_code',\n",
    "'weapon_description',\n",
    "#'status',\n",
    "'status_description',\n",
    "#'crime_code_1',\n",
    "#'crime_code_2',\n",
    "#'crime_code_3',\n",
    "#'crime_code_4',\n",
    "'location',\n",
    "#'cross_street',\n",
    "'latitude',\n",
    "'longitude',\n",
    "]"
   ]
  },
  {
   "cell_type": "code",
   "execution_count": 14,
   "metadata": {},
   "outputs": [
    {
     "data": {
      "text/html": [
       "<div>\n",
       "<style scoped>\n",
       "    .dataframe tbody tr th:only-of-type {\n",
       "        vertical-align: middle;\n",
       "    }\n",
       "\n",
       "    .dataframe tbody tr th {\n",
       "        vertical-align: top;\n",
       "    }\n",
       "\n",
       "    .dataframe thead th {\n",
       "        text-align: right;\n",
       "    }\n",
       "</style>\n",
       "<table border=\"1\" class=\"dataframe\">\n",
       "  <thead>\n",
       "    <tr style=\"text-align: right;\">\n",
       "      <th></th>\n",
       "      <th>date_occurred</th>\n",
       "      <th>area_name</th>\n",
       "      <th>crime_description</th>\n",
       "      <th>victim_age</th>\n",
       "      <th>victim_sex</th>\n",
       "      <th>victim_descent</th>\n",
       "      <th>premise_description</th>\n",
       "      <th>weapon_description</th>\n",
       "      <th>status_description</th>\n",
       "      <th>location</th>\n",
       "      <th>latitude</th>\n",
       "      <th>longitude</th>\n",
       "    </tr>\n",
       "  </thead>\n",
       "  <tbody>\n",
       "    <tr>\n",
       "      <th>0</th>\n",
       "      <td>2020-01-08 22:30:00</td>\n",
       "      <td>Southwest</td>\n",
       "      <td>BATTERY - SIMPLE ASSAULT</td>\n",
       "      <td>36</td>\n",
       "      <td>F</td>\n",
       "      <td>B</td>\n",
       "      <td>SINGLE FAMILY DWELLING</td>\n",
       "      <td>STRONG-ARM (HANDS, FIST, FEET OR BODILY FORCE)</td>\n",
       "      <td>Adult Other</td>\n",
       "      <td>1100 W  39TH                         PL</td>\n",
       "      <td>34.0141</td>\n",
       "      <td>-118.2978</td>\n",
       "    </tr>\n",
       "    <tr>\n",
       "      <th>1</th>\n",
       "      <td>2020-01-01 03:30:00</td>\n",
       "      <td>Central</td>\n",
       "      <td>BATTERY - SIMPLE ASSAULT</td>\n",
       "      <td>25</td>\n",
       "      <td>M</td>\n",
       "      <td>H</td>\n",
       "      <td>SIDEWALK</td>\n",
       "      <td>UNKNOWN WEAPON/OTHER WEAPON</td>\n",
       "      <td>Invest Cont</td>\n",
       "      <td>700 S  HILL                         ST</td>\n",
       "      <td>34.0459</td>\n",
       "      <td>-118.2545</td>\n",
       "    </tr>\n",
       "    <tr>\n",
       "      <th>2</th>\n",
       "      <td>2020-02-13 12:00:00</td>\n",
       "      <td>Central</td>\n",
       "      <td>SEX OFFENDER REGISTRANT OUT OF COMPLIANCE</td>\n",
       "      <td>0</td>\n",
       "      <td>X</td>\n",
       "      <td>X</td>\n",
       "      <td>POLICE FACILITY</td>\n",
       "      <td>NaN</td>\n",
       "      <td>Adult Arrest</td>\n",
       "      <td>200 E  6TH                          ST</td>\n",
       "      <td>34.0448</td>\n",
       "      <td>-118.2474</td>\n",
       "    </tr>\n",
       "  </tbody>\n",
       "</table>\n",
       "</div>"
      ],
      "text/plain": [
       "         date_occurred  area_name                          crime_description  \\\n",
       "0  2020-01-08 22:30:00  Southwest                   BATTERY - SIMPLE ASSAULT   \n",
       "1  2020-01-01 03:30:00    Central                   BATTERY - SIMPLE ASSAULT   \n",
       "2  2020-02-13 12:00:00    Central  SEX OFFENDER REGISTRANT OUT OF COMPLIANCE   \n",
       "\n",
       "   victim_age victim_sex victim_descent     premise_description  \\\n",
       "0          36          F              B  SINGLE FAMILY DWELLING   \n",
       "1          25          M              H                SIDEWALK   \n",
       "2           0          X              X         POLICE FACILITY   \n",
       "\n",
       "                               weapon_description status_description  \\\n",
       "0  STRONG-ARM (HANDS, FIST, FEET OR BODILY FORCE)        Adult Other   \n",
       "1                     UNKNOWN WEAPON/OTHER WEAPON        Invest Cont   \n",
       "2                                             NaN       Adult Arrest   \n",
       "\n",
       "                                  location  latitude  longitude  \n",
       "0  1100 W  39TH                         PL   34.0141  -118.2978  \n",
       "1   700 S  HILL                         ST   34.0459  -118.2545  \n",
       "2   200 E  6TH                          ST   34.0448  -118.2474  "
      ]
     },
     "execution_count": 14,
     "metadata": {},
     "output_type": "execute_result"
    }
   ],
   "source": [
    "df = df[columns_keep]\n",
    "df.head(3)"
   ]
  },
  {
   "cell_type": "code",
   "execution_count": 15,
   "metadata": {},
   "outputs": [
    {
     "data": {
      "text/html": [
       "<div>\n",
       "<style scoped>\n",
       "    .dataframe tbody tr th:only-of-type {\n",
       "        vertical-align: middle;\n",
       "    }\n",
       "\n",
       "    .dataframe tbody tr th {\n",
       "        vertical-align: top;\n",
       "    }\n",
       "\n",
       "    .dataframe thead th {\n",
       "        text-align: right;\n",
       "    }\n",
       "</style>\n",
       "<table border=\"1\" class=\"dataframe\">\n",
       "  <thead>\n",
       "    <tr style=\"text-align: right;\">\n",
       "      <th></th>\n",
       "      <th>date_occurred</th>\n",
       "      <th>area_name</th>\n",
       "      <th>crime_description</th>\n",
       "      <th>victim_age</th>\n",
       "      <th>victim_sex</th>\n",
       "      <th>victim_descent</th>\n",
       "      <th>premise_description</th>\n",
       "      <th>weapon_description</th>\n",
       "      <th>status_description</th>\n",
       "      <th>location</th>\n",
       "      <th>latitude</th>\n",
       "      <th>longitude</th>\n",
       "      <th>year_occurred</th>\n",
       "      <th>month_occurred</th>\n",
       "      <th>hour_occurred</th>\n",
       "    </tr>\n",
       "  </thead>\n",
       "  <tbody>\n",
       "    <tr>\n",
       "      <th>0</th>\n",
       "      <td>2020-01-08 22:30:00</td>\n",
       "      <td>Southwest</td>\n",
       "      <td>BATTERY - SIMPLE ASSAULT</td>\n",
       "      <td>36</td>\n",
       "      <td>F</td>\n",
       "      <td>B</td>\n",
       "      <td>SINGLE FAMILY DWELLING</td>\n",
       "      <td>STRONG-ARM (HANDS, FIST, FEET OR BODILY FORCE)</td>\n",
       "      <td>Adult Other</td>\n",
       "      <td>1100 W  39TH                         PL</td>\n",
       "      <td>34.0141</td>\n",
       "      <td>-118.2978</td>\n",
       "      <td>2020</td>\n",
       "      <td>1</td>\n",
       "      <td>22</td>\n",
       "    </tr>\n",
       "    <tr>\n",
       "      <th>1</th>\n",
       "      <td>2020-01-01 03:30:00</td>\n",
       "      <td>Central</td>\n",
       "      <td>BATTERY - SIMPLE ASSAULT</td>\n",
       "      <td>25</td>\n",
       "      <td>M</td>\n",
       "      <td>H</td>\n",
       "      <td>SIDEWALK</td>\n",
       "      <td>UNKNOWN WEAPON/OTHER WEAPON</td>\n",
       "      <td>Invest Cont</td>\n",
       "      <td>700 S  HILL                         ST</td>\n",
       "      <td>34.0459</td>\n",
       "      <td>-118.2545</td>\n",
       "      <td>2020</td>\n",
       "      <td>1</td>\n",
       "      <td>3</td>\n",
       "    </tr>\n",
       "    <tr>\n",
       "      <th>2</th>\n",
       "      <td>2020-02-13 12:00:00</td>\n",
       "      <td>Central</td>\n",
       "      <td>SEX OFFENDER REGISTRANT OUT OF COMPLIANCE</td>\n",
       "      <td>0</td>\n",
       "      <td>X</td>\n",
       "      <td>X</td>\n",
       "      <td>POLICE FACILITY</td>\n",
       "      <td>NaN</td>\n",
       "      <td>Adult Arrest</td>\n",
       "      <td>200 E  6TH                          ST</td>\n",
       "      <td>34.0448</td>\n",
       "      <td>-118.2474</td>\n",
       "      <td>2020</td>\n",
       "      <td>2</td>\n",
       "      <td>12</td>\n",
       "    </tr>\n",
       "  </tbody>\n",
       "</table>\n",
       "</div>"
      ],
      "text/plain": [
       "        date_occurred  area_name                          crime_description  \\\n",
       "0 2020-01-08 22:30:00  Southwest                   BATTERY - SIMPLE ASSAULT   \n",
       "1 2020-01-01 03:30:00    Central                   BATTERY - SIMPLE ASSAULT   \n",
       "2 2020-02-13 12:00:00    Central  SEX OFFENDER REGISTRANT OUT OF COMPLIANCE   \n",
       "\n",
       "   victim_age victim_sex victim_descent     premise_description  \\\n",
       "0          36          F              B  SINGLE FAMILY DWELLING   \n",
       "1          25          M              H                SIDEWALK   \n",
       "2           0          X              X         POLICE FACILITY   \n",
       "\n",
       "                               weapon_description status_description  \\\n",
       "0  STRONG-ARM (HANDS, FIST, FEET OR BODILY FORCE)        Adult Other   \n",
       "1                     UNKNOWN WEAPON/OTHER WEAPON        Invest Cont   \n",
       "2                                             NaN       Adult Arrest   \n",
       "\n",
       "                                  location  latitude  longitude  \\\n",
       "0  1100 W  39TH                         PL   34.0141  -118.2978   \n",
       "1   700 S  HILL                         ST   34.0459  -118.2545   \n",
       "2   200 E  6TH                          ST   34.0448  -118.2474   \n",
       "\n",
       "   year_occurred  month_occurred  hour_occurred  \n",
       "0           2020               1             22  \n",
       "1           2020               1              3  \n",
       "2           2020               2             12  "
      ]
     },
     "execution_count": 15,
     "metadata": {},
     "output_type": "execute_result"
    }
   ],
   "source": [
    "# Dates\n",
    "df['date_occurred'] = pd.to_datetime(df['date_occurred'], errors='coerce')\n",
    "df['year_occurred'] = df['date_occurred'].dt.year\n",
    "df['month_occurred'] = df['date_occurred'].dt.month\n",
    "df['hour_occurred'] = df['date_occurred'].dt.hour\n",
    "\n",
    "df.head(3)"
   ]
  },
  {
   "cell_type": "markdown",
   "metadata": {},
   "source": [
    "# Logistic regression"
   ]
  },
  {
   "cell_type": "code",
   "execution_count": 21,
   "metadata": {},
   "outputs": [
    {
     "name": "stdout",
     "output_type": "stream",
     "text": [
      "<class 'pandas.core.frame.DataFrame'>\n",
      "RangeIndex: 852950 entries, 0 to 852949\n",
      "Data columns (total 15 columns):\n",
      " #   Column               Non-Null Count   Dtype         \n",
      "---  ------               --------------   -----         \n",
      " 0   date_occurred        852950 non-null  datetime64[ns]\n",
      " 1   area_name            852950 non-null  object        \n",
      " 2   crime_description    852950 non-null  object        \n",
      " 3   victim_age           852950 non-null  int64         \n",
      " 4   victim_sex           740344 non-null  object        \n",
      " 5   victim_descent       740336 non-null  object        \n",
      " 6   premise_description  852432 non-null  object        \n",
      " 7   weapon_description   296748 non-null  object        \n",
      " 8   status_description   852950 non-null  object        \n",
      " 9   location             852950 non-null  object        \n",
      " 10  latitude             852950 non-null  float64       \n",
      " 11  longitude            852950 non-null  float64       \n",
      " 12  year_occurred        852950 non-null  int32         \n",
      " 13  month_occurred       852950 non-null  int32         \n",
      " 14  hour_occurred        852950 non-null  int32         \n",
      "dtypes: datetime64[ns](1), float64(2), int32(3), int64(1), object(8)\n",
      "memory usage: 87.9+ MB\n"
     ]
    }
   ],
   "source": [
    "df.info()"
   ]
  },
  {
   "cell_type": "code",
   "execution_count": 20,
   "metadata": {},
   "outputs": [
    {
     "name": "stderr",
     "output_type": "stream",
     "text": [
      "/home/cris/.pyenv/versions/3.10.6/envs/safe_live/lib/python3.10/site-packages/sklearn/model_selection/_split.py:737: UserWarning: The least populated class in y has only 2 members, which is less than n_splits=5.\n",
      "  warnings.warn(\n"
     ]
    },
    {
     "ename": "ValueError",
     "evalue": "\nAll the 5 fits failed.\nIt is very likely that your model is misconfigured.\nYou can try to debug the error by setting error_score='raise'.\n\nBelow are more details about the failures:\n--------------------------------------------------------------------------------\n1 fits failed with the following error:\nTraceback (most recent call last):\n  File \"/home/cris/.pyenv/versions/3.10.6/envs/safe_live/lib/python3.10/site-packages/sklearn/model_selection/_validation.py\", line 895, in _fit_and_score\n    estimator.fit(X_train, y_train, **fit_params)\n  File \"/home/cris/.pyenv/versions/3.10.6/envs/safe_live/lib/python3.10/site-packages/sklearn/base.py\", line 1474, in wrapper\n    return fit_method(estimator, *args, **kwargs)\n  File \"/home/cris/.pyenv/versions/3.10.6/envs/safe_live/lib/python3.10/site-packages/sklearn/linear_model/_logistic.py\", line 1201, in fit\n    X, y = self._validate_data(\n  File \"/home/cris/.pyenv/versions/3.10.6/envs/safe_live/lib/python3.10/site-packages/sklearn/base.py\", line 650, in _validate_data\n    X, y = check_X_y(X, y, **check_params)\n  File \"/home/cris/.pyenv/versions/3.10.6/envs/safe_live/lib/python3.10/site-packages/sklearn/utils/validation.py\", line 1263, in check_X_y\n    X = check_array(\n  File \"/home/cris/.pyenv/versions/3.10.6/envs/safe_live/lib/python3.10/site-packages/sklearn/utils/validation.py\", line 997, in check_array\n    array = _asarray_with_order(array, order=order, dtype=dtype, xp=xp)\n  File \"/home/cris/.pyenv/versions/3.10.6/envs/safe_live/lib/python3.10/site-packages/sklearn/utils/_array_api.py\", line 521, in _asarray_with_order\n    array = numpy.asarray(array, order=order, dtype=dtype)\n  File \"/home/cris/.pyenv/versions/3.10.6/envs/safe_live/lib/python3.10/site-packages/pandas/core/generic.py\", line 2150, in __array__\n    arr = np.asarray(values, dtype=dtype)\nValueError: could not convert string to float: 'X'\n\n--------------------------------------------------------------------------------\n4 fits failed with the following error:\nTraceback (most recent call last):\n  File \"/home/cris/.pyenv/versions/3.10.6/envs/safe_live/lib/python3.10/site-packages/sklearn/model_selection/_validation.py\", line 895, in _fit_and_score\n    estimator.fit(X_train, y_train, **fit_params)\n  File \"/home/cris/.pyenv/versions/3.10.6/envs/safe_live/lib/python3.10/site-packages/sklearn/base.py\", line 1474, in wrapper\n    return fit_method(estimator, *args, **kwargs)\n  File \"/home/cris/.pyenv/versions/3.10.6/envs/safe_live/lib/python3.10/site-packages/sklearn/linear_model/_logistic.py\", line 1201, in fit\n    X, y = self._validate_data(\n  File \"/home/cris/.pyenv/versions/3.10.6/envs/safe_live/lib/python3.10/site-packages/sklearn/base.py\", line 650, in _validate_data\n    X, y = check_X_y(X, y, **check_params)\n  File \"/home/cris/.pyenv/versions/3.10.6/envs/safe_live/lib/python3.10/site-packages/sklearn/utils/validation.py\", line 1263, in check_X_y\n    X = check_array(\n  File \"/home/cris/.pyenv/versions/3.10.6/envs/safe_live/lib/python3.10/site-packages/sklearn/utils/validation.py\", line 997, in check_array\n    array = _asarray_with_order(array, order=order, dtype=dtype, xp=xp)\n  File \"/home/cris/.pyenv/versions/3.10.6/envs/safe_live/lib/python3.10/site-packages/sklearn/utils/_array_api.py\", line 521, in _asarray_with_order\n    array = numpy.asarray(array, order=order, dtype=dtype)\n  File \"/home/cris/.pyenv/versions/3.10.6/envs/safe_live/lib/python3.10/site-packages/pandas/core/generic.py\", line 2150, in __array__\n    arr = np.asarray(values, dtype=dtype)\nValueError: could not convert string to float: 'F'\n",
     "output_type": "error",
     "traceback": [
      "\u001b[0;31m---------------------------------------------------------------------------\u001b[0m",
      "\u001b[0;31mValueError\u001b[0m                                Traceback (most recent call last)",
      "Cell \u001b[0;32mIn[20], line 10\u001b[0m\n\u001b[1;32m      7\u001b[0m model \u001b[38;5;241m=\u001b[39m LogisticRegression(max_iter\u001b[38;5;241m=\u001b[39m\u001b[38;5;241m1000\u001b[39m)\n\u001b[1;32m      9\u001b[0m \u001b[38;5;66;03m# 5-Fold Cross validate model\u001b[39;00m\n\u001b[0;32m---> 10\u001b[0m cv_results \u001b[38;5;241m=\u001b[39m \u001b[43mcross_validate\u001b[49m\u001b[43m(\u001b[49m\u001b[43mmodel\u001b[49m\u001b[43m,\u001b[49m\u001b[43m \u001b[49m\u001b[43mX\u001b[49m\u001b[43m,\u001b[49m\u001b[43m \u001b[49m\u001b[43my\u001b[49m\u001b[43m,\u001b[49m\u001b[43m \u001b[49m\u001b[43mcv\u001b[49m\u001b[38;5;241;43m=\u001b[39;49m\u001b[38;5;241;43m5\u001b[39;49m\u001b[43m)\u001b[49m\n\u001b[1;32m     12\u001b[0m \u001b[38;5;66;03m# Mean of accuracies\u001b[39;00m\n\u001b[1;32m     13\u001b[0m accuracy \u001b[38;5;241m=\u001b[39m cv_results[\u001b[38;5;124m'\u001b[39m\u001b[38;5;124mtest_score\u001b[39m\u001b[38;5;124m'\u001b[39m]\u001b[38;5;241m.\u001b[39mmean()\n",
      "File \u001b[0;32m~/.pyenv/versions/3.10.6/envs/safe_live/lib/python3.10/site-packages/sklearn/utils/_param_validation.py:213\u001b[0m, in \u001b[0;36mvalidate_params.<locals>.decorator.<locals>.wrapper\u001b[0;34m(*args, **kwargs)\u001b[0m\n\u001b[1;32m    207\u001b[0m \u001b[38;5;28;01mtry\u001b[39;00m:\n\u001b[1;32m    208\u001b[0m     \u001b[38;5;28;01mwith\u001b[39;00m config_context(\n\u001b[1;32m    209\u001b[0m         skip_parameter_validation\u001b[38;5;241m=\u001b[39m(\n\u001b[1;32m    210\u001b[0m             prefer_skip_nested_validation \u001b[38;5;129;01mor\u001b[39;00m global_skip_validation\n\u001b[1;32m    211\u001b[0m         )\n\u001b[1;32m    212\u001b[0m     ):\n\u001b[0;32m--> 213\u001b[0m         \u001b[38;5;28;01mreturn\u001b[39;00m \u001b[43mfunc\u001b[49m\u001b[43m(\u001b[49m\u001b[38;5;241;43m*\u001b[39;49m\u001b[43margs\u001b[49m\u001b[43m,\u001b[49m\u001b[43m \u001b[49m\u001b[38;5;241;43m*\u001b[39;49m\u001b[38;5;241;43m*\u001b[39;49m\u001b[43mkwargs\u001b[49m\u001b[43m)\u001b[49m\n\u001b[1;32m    214\u001b[0m \u001b[38;5;28;01mexcept\u001b[39;00m InvalidParameterError \u001b[38;5;28;01mas\u001b[39;00m e:\n\u001b[1;32m    215\u001b[0m     \u001b[38;5;66;03m# When the function is just a wrapper around an estimator, we allow\u001b[39;00m\n\u001b[1;32m    216\u001b[0m     \u001b[38;5;66;03m# the function to delegate validation to the estimator, but we replace\u001b[39;00m\n\u001b[1;32m    217\u001b[0m     \u001b[38;5;66;03m# the name of the estimator by the name of the function in the error\u001b[39;00m\n\u001b[1;32m    218\u001b[0m     \u001b[38;5;66;03m# message to avoid confusion.\u001b[39;00m\n\u001b[1;32m    219\u001b[0m     msg \u001b[38;5;241m=\u001b[39m re\u001b[38;5;241m.\u001b[39msub(\n\u001b[1;32m    220\u001b[0m         \u001b[38;5;124mr\u001b[39m\u001b[38;5;124m\"\u001b[39m\u001b[38;5;124mparameter of \u001b[39m\u001b[38;5;124m\\\u001b[39m\u001b[38;5;124mw+ must be\u001b[39m\u001b[38;5;124m\"\u001b[39m,\n\u001b[1;32m    221\u001b[0m         \u001b[38;5;124mf\u001b[39m\u001b[38;5;124m\"\u001b[39m\u001b[38;5;124mparameter of \u001b[39m\u001b[38;5;132;01m{\u001b[39;00mfunc\u001b[38;5;241m.\u001b[39m\u001b[38;5;18m__qualname__\u001b[39m\u001b[38;5;132;01m}\u001b[39;00m\u001b[38;5;124m must be\u001b[39m\u001b[38;5;124m\"\u001b[39m,\n\u001b[1;32m    222\u001b[0m         \u001b[38;5;28mstr\u001b[39m(e),\n\u001b[1;32m    223\u001b[0m     )\n",
      "File \u001b[0;32m~/.pyenv/versions/3.10.6/envs/safe_live/lib/python3.10/site-packages/sklearn/model_selection/_validation.py:450\u001b[0m, in \u001b[0;36mcross_validate\u001b[0;34m(estimator, X, y, groups, scoring, cv, n_jobs, verbose, fit_params, params, pre_dispatch, return_train_score, return_estimator, return_indices, error_score)\u001b[0m\n\u001b[1;32m    429\u001b[0m parallel \u001b[38;5;241m=\u001b[39m Parallel(n_jobs\u001b[38;5;241m=\u001b[39mn_jobs, verbose\u001b[38;5;241m=\u001b[39mverbose, pre_dispatch\u001b[38;5;241m=\u001b[39mpre_dispatch)\n\u001b[1;32m    430\u001b[0m results \u001b[38;5;241m=\u001b[39m parallel(\n\u001b[1;32m    431\u001b[0m     delayed(_fit_and_score)(\n\u001b[1;32m    432\u001b[0m         clone(estimator),\n\u001b[0;32m   (...)\u001b[0m\n\u001b[1;32m    447\u001b[0m     \u001b[38;5;28;01mfor\u001b[39;00m train, test \u001b[38;5;129;01min\u001b[39;00m indices\n\u001b[1;32m    448\u001b[0m )\n\u001b[0;32m--> 450\u001b[0m \u001b[43m_warn_or_raise_about_fit_failures\u001b[49m\u001b[43m(\u001b[49m\u001b[43mresults\u001b[49m\u001b[43m,\u001b[49m\u001b[43m \u001b[49m\u001b[43merror_score\u001b[49m\u001b[43m)\u001b[49m\n\u001b[1;32m    452\u001b[0m \u001b[38;5;66;03m# For callable scoring, the return type is only know after calling. If the\u001b[39;00m\n\u001b[1;32m    453\u001b[0m \u001b[38;5;66;03m# return type is a dictionary, the error scores can now be inserted with\u001b[39;00m\n\u001b[1;32m    454\u001b[0m \u001b[38;5;66;03m# the correct key.\u001b[39;00m\n\u001b[1;32m    455\u001b[0m \u001b[38;5;28;01mif\u001b[39;00m \u001b[38;5;28mcallable\u001b[39m(scoring):\n",
      "File \u001b[0;32m~/.pyenv/versions/3.10.6/envs/safe_live/lib/python3.10/site-packages/sklearn/model_selection/_validation.py:536\u001b[0m, in \u001b[0;36m_warn_or_raise_about_fit_failures\u001b[0;34m(results, error_score)\u001b[0m\n\u001b[1;32m    529\u001b[0m \u001b[38;5;28;01mif\u001b[39;00m num_failed_fits \u001b[38;5;241m==\u001b[39m num_fits:\n\u001b[1;32m    530\u001b[0m     all_fits_failed_message \u001b[38;5;241m=\u001b[39m (\n\u001b[1;32m    531\u001b[0m         \u001b[38;5;124mf\u001b[39m\u001b[38;5;124m\"\u001b[39m\u001b[38;5;130;01m\\n\u001b[39;00m\u001b[38;5;124mAll the \u001b[39m\u001b[38;5;132;01m{\u001b[39;00mnum_fits\u001b[38;5;132;01m}\u001b[39;00m\u001b[38;5;124m fits failed.\u001b[39m\u001b[38;5;130;01m\\n\u001b[39;00m\u001b[38;5;124m\"\u001b[39m\n\u001b[1;32m    532\u001b[0m         \u001b[38;5;124m\"\u001b[39m\u001b[38;5;124mIt is very likely that your model is misconfigured.\u001b[39m\u001b[38;5;130;01m\\n\u001b[39;00m\u001b[38;5;124m\"\u001b[39m\n\u001b[1;32m    533\u001b[0m         \u001b[38;5;124m\"\u001b[39m\u001b[38;5;124mYou can try to debug the error by setting error_score=\u001b[39m\u001b[38;5;124m'\u001b[39m\u001b[38;5;124mraise\u001b[39m\u001b[38;5;124m'\u001b[39m\u001b[38;5;124m.\u001b[39m\u001b[38;5;130;01m\\n\u001b[39;00m\u001b[38;5;130;01m\\n\u001b[39;00m\u001b[38;5;124m\"\u001b[39m\n\u001b[1;32m    534\u001b[0m         \u001b[38;5;124mf\u001b[39m\u001b[38;5;124m\"\u001b[39m\u001b[38;5;124mBelow are more details about the failures:\u001b[39m\u001b[38;5;130;01m\\n\u001b[39;00m\u001b[38;5;132;01m{\u001b[39;00mfit_errors_summary\u001b[38;5;132;01m}\u001b[39;00m\u001b[38;5;124m\"\u001b[39m\n\u001b[1;32m    535\u001b[0m     )\n\u001b[0;32m--> 536\u001b[0m     \u001b[38;5;28;01mraise\u001b[39;00m \u001b[38;5;167;01mValueError\u001b[39;00m(all_fits_failed_message)\n\u001b[1;32m    538\u001b[0m \u001b[38;5;28;01melse\u001b[39;00m:\n\u001b[1;32m    539\u001b[0m     some_fits_failed_message \u001b[38;5;241m=\u001b[39m (\n\u001b[1;32m    540\u001b[0m         \u001b[38;5;124mf\u001b[39m\u001b[38;5;124m\"\u001b[39m\u001b[38;5;130;01m\\n\u001b[39;00m\u001b[38;5;132;01m{\u001b[39;00mnum_failed_fits\u001b[38;5;132;01m}\u001b[39;00m\u001b[38;5;124m fits failed out of a total of \u001b[39m\u001b[38;5;132;01m{\u001b[39;00mnum_fits\u001b[38;5;132;01m}\u001b[39;00m\u001b[38;5;124m.\u001b[39m\u001b[38;5;130;01m\\n\u001b[39;00m\u001b[38;5;124m\"\u001b[39m\n\u001b[1;32m    541\u001b[0m         \u001b[38;5;124m\"\u001b[39m\u001b[38;5;124mThe score on these train-test partitions for these parameters\u001b[39m\u001b[38;5;124m\"\u001b[39m\n\u001b[0;32m   (...)\u001b[0m\n\u001b[1;32m    545\u001b[0m         \u001b[38;5;124mf\u001b[39m\u001b[38;5;124m\"\u001b[39m\u001b[38;5;124mBelow are more details about the failures:\u001b[39m\u001b[38;5;130;01m\\n\u001b[39;00m\u001b[38;5;132;01m{\u001b[39;00mfit_errors_summary\u001b[38;5;132;01m}\u001b[39;00m\u001b[38;5;124m\"\u001b[39m\n\u001b[1;32m    546\u001b[0m     )\n",
      "\u001b[0;31mValueError\u001b[0m: \nAll the 5 fits failed.\nIt is very likely that your model is misconfigured.\nYou can try to debug the error by setting error_score='raise'.\n\nBelow are more details about the failures:\n--------------------------------------------------------------------------------\n1 fits failed with the following error:\nTraceback (most recent call last):\n  File \"/home/cris/.pyenv/versions/3.10.6/envs/safe_live/lib/python3.10/site-packages/sklearn/model_selection/_validation.py\", line 895, in _fit_and_score\n    estimator.fit(X_train, y_train, **fit_params)\n  File \"/home/cris/.pyenv/versions/3.10.6/envs/safe_live/lib/python3.10/site-packages/sklearn/base.py\", line 1474, in wrapper\n    return fit_method(estimator, *args, **kwargs)\n  File \"/home/cris/.pyenv/versions/3.10.6/envs/safe_live/lib/python3.10/site-packages/sklearn/linear_model/_logistic.py\", line 1201, in fit\n    X, y = self._validate_data(\n  File \"/home/cris/.pyenv/versions/3.10.6/envs/safe_live/lib/python3.10/site-packages/sklearn/base.py\", line 650, in _validate_data\n    X, y = check_X_y(X, y, **check_params)\n  File \"/home/cris/.pyenv/versions/3.10.6/envs/safe_live/lib/python3.10/site-packages/sklearn/utils/validation.py\", line 1263, in check_X_y\n    X = check_array(\n  File \"/home/cris/.pyenv/versions/3.10.6/envs/safe_live/lib/python3.10/site-packages/sklearn/utils/validation.py\", line 997, in check_array\n    array = _asarray_with_order(array, order=order, dtype=dtype, xp=xp)\n  File \"/home/cris/.pyenv/versions/3.10.6/envs/safe_live/lib/python3.10/site-packages/sklearn/utils/_array_api.py\", line 521, in _asarray_with_order\n    array = numpy.asarray(array, order=order, dtype=dtype)\n  File \"/home/cris/.pyenv/versions/3.10.6/envs/safe_live/lib/python3.10/site-packages/pandas/core/generic.py\", line 2150, in __array__\n    arr = np.asarray(values, dtype=dtype)\nValueError: could not convert string to float: 'X'\n\n--------------------------------------------------------------------------------\n4 fits failed with the following error:\nTraceback (most recent call last):\n  File \"/home/cris/.pyenv/versions/3.10.6/envs/safe_live/lib/python3.10/site-packages/sklearn/model_selection/_validation.py\", line 895, in _fit_and_score\n    estimator.fit(X_train, y_train, **fit_params)\n  File \"/home/cris/.pyenv/versions/3.10.6/envs/safe_live/lib/python3.10/site-packages/sklearn/base.py\", line 1474, in wrapper\n    return fit_method(estimator, *args, **kwargs)\n  File \"/home/cris/.pyenv/versions/3.10.6/envs/safe_live/lib/python3.10/site-packages/sklearn/linear_model/_logistic.py\", line 1201, in fit\n    X, y = self._validate_data(\n  File \"/home/cris/.pyenv/versions/3.10.6/envs/safe_live/lib/python3.10/site-packages/sklearn/base.py\", line 650, in _validate_data\n    X, y = check_X_y(X, y, **check_params)\n  File \"/home/cris/.pyenv/versions/3.10.6/envs/safe_live/lib/python3.10/site-packages/sklearn/utils/validation.py\", line 1263, in check_X_y\n    X = check_array(\n  File \"/home/cris/.pyenv/versions/3.10.6/envs/safe_live/lib/python3.10/site-packages/sklearn/utils/validation.py\", line 997, in check_array\n    array = _asarray_with_order(array, order=order, dtype=dtype, xp=xp)\n  File \"/home/cris/.pyenv/versions/3.10.6/envs/safe_live/lib/python3.10/site-packages/sklearn/utils/_array_api.py\", line 521, in _asarray_with_order\n    array = numpy.asarray(array, order=order, dtype=dtype)\n  File \"/home/cris/.pyenv/versions/3.10.6/envs/safe_live/lib/python3.10/site-packages/pandas/core/generic.py\", line 2150, in __array__\n    arr = np.asarray(values, dtype=dtype)\nValueError: could not convert string to float: 'F'\n"
     ]
    }
   ],
   "source": [
    "#Create the feature set\n",
    "\n",
    "X = df[['victim_age','victim_sex','victim_descent','latitude','longitude' ]]\n",
    "y = df['crime_description']\n",
    "\n",
    "# Instanciate model\n",
    "model = LogisticRegression(max_iter=1000)\n",
    "\n",
    "# 5-Fold Cross validate model\n",
    "cv_results = cross_validate(model, X, y, cv=5)\n",
    "\n",
    "# Mean of accuracies\n",
    "accuracy = cv_results['test_score'].mean()\n",
    "\n",
    "accuracy"
   ]
  }
 ],
 "metadata": {
  "kernelspec": {
   "display_name": "safe_live",
   "language": "python",
   "name": "python3"
  },
  "language_info": {
   "codemirror_mode": {
    "name": "ipython",
    "version": 3
   },
   "file_extension": ".py",
   "mimetype": "text/x-python",
   "name": "python",
   "nbconvert_exporter": "python",
   "pygments_lexer": "ipython3",
   "version": "3.10.6"
  }
 },
 "nbformat": 4,
 "nbformat_minor": 2
}

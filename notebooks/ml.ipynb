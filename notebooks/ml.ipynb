{
 "cells": [
  {
   "cell_type": "markdown",
   "metadata": {},
   "source": [
    "# Libraries"
   ]
  },
  {
   "cell_type": "code",
   "execution_count": 1,
   "metadata": {},
   "outputs": [],
   "source": [
    "import pandas as pd\n",
    "import os\n",
    "\n",
    "#logistic regression\n",
    "from sklearn.model_selection import cross_validate\n",
    "from sklearn.linear_model import LogisticRegression\n",
    "from sklearn.model_selection import train_test_split"
   ]
  },
  {
   "cell_type": "markdown",
   "metadata": {},
   "source": [
    "# Read data"
   ]
  },
  {
   "cell_type": "code",
   "execution_count": 2,
   "metadata": {},
   "outputs": [],
   "source": [
    "# fetch all the data from the raw_data folder\n",
    "current_dir = os.getcwd()\n",
    "current_dir\n",
    "\n",
    "file_path = os.path.join(current_dir, '..','raw_data', 'data.csv')\n",
    "df = pd.read_csv(file_path)"
   ]
  },
  {
   "cell_type": "markdown",
   "metadata": {},
   "source": [
    "# Getting the data"
   ]
  },
  {
   "cell_type": "code",
   "execution_count": 3,
   "metadata": {},
   "outputs": [],
   "source": [
    "columns_keep = [\n",
    "#'division_number',\n",
    "#'date_reported',\n",
    "'date_occurred',\n",
    "#'area',\n",
    "#'area_name',\n",
    "#'reporting_district',\n",
    "#'part',\n",
    "#'crime_code',\n",
    "'crime_description',\n",
    "#'modus_operandi',\n",
    "'victim_age',\n",
    "#'victim_sex',\n",
    "#'victim_descent',\n",
    "#'premise_code',\n",
    "#'premise_description',\n",
    "#'weapon_code',\n",
    "#'weapon_description',\n",
    "#'status',\n",
    "#'status_description',\n",
    "#'crime_code_1',\n",
    "#'crime_code_2',\n",
    "#'crime_code_3',\n",
    "#'crime_code_4',\n",
    "#'location',\n",
    "#'cross_street',\n",
    "'latitude',\n",
    "'longitude',\n",
    "]"
   ]
  },
  {
   "cell_type": "code",
   "execution_count": 4,
   "metadata": {},
   "outputs": [
    {
     "data": {
      "text/html": [
       "<div>\n",
       "<style scoped>\n",
       "    .dataframe tbody tr th:only-of-type {\n",
       "        vertical-align: middle;\n",
       "    }\n",
       "\n",
       "    .dataframe tbody tr th {\n",
       "        vertical-align: top;\n",
       "    }\n",
       "\n",
       "    .dataframe thead th {\n",
       "        text-align: right;\n",
       "    }\n",
       "</style>\n",
       "<table border=\"1\" class=\"dataframe\">\n",
       "  <thead>\n",
       "    <tr style=\"text-align: right;\">\n",
       "      <th></th>\n",
       "      <th>date_occurred</th>\n",
       "      <th>crime_description</th>\n",
       "      <th>victim_age</th>\n",
       "      <th>latitude</th>\n",
       "      <th>longitude</th>\n",
       "    </tr>\n",
       "  </thead>\n",
       "  <tbody>\n",
       "    <tr>\n",
       "      <th>0</th>\n",
       "      <td>2020-01-08 22:30:00</td>\n",
       "      <td>BATTERY - SIMPLE ASSAULT</td>\n",
       "      <td>36</td>\n",
       "      <td>34.0141</td>\n",
       "      <td>-118.2978</td>\n",
       "    </tr>\n",
       "    <tr>\n",
       "      <th>1</th>\n",
       "      <td>2020-01-01 03:30:00</td>\n",
       "      <td>BATTERY - SIMPLE ASSAULT</td>\n",
       "      <td>25</td>\n",
       "      <td>34.0459</td>\n",
       "      <td>-118.2545</td>\n",
       "    </tr>\n",
       "    <tr>\n",
       "      <th>2</th>\n",
       "      <td>2020-02-13 12:00:00</td>\n",
       "      <td>SEX OFFENDER REGISTRANT OUT OF COMPLIANCE</td>\n",
       "      <td>0</td>\n",
       "      <td>34.0448</td>\n",
       "      <td>-118.2474</td>\n",
       "    </tr>\n",
       "  </tbody>\n",
       "</table>\n",
       "</div>"
      ],
      "text/plain": [
       "         date_occurred                          crime_description  victim_age  \\\n",
       "0  2020-01-08 22:30:00                   BATTERY - SIMPLE ASSAULT          36   \n",
       "1  2020-01-01 03:30:00                   BATTERY - SIMPLE ASSAULT          25   \n",
       "2  2020-02-13 12:00:00  SEX OFFENDER REGISTRANT OUT OF COMPLIANCE           0   \n",
       "\n",
       "   latitude  longitude  \n",
       "0   34.0141  -118.2978  \n",
       "1   34.0459  -118.2545  \n",
       "2   34.0448  -118.2474  "
      ]
     },
     "execution_count": 4,
     "metadata": {},
     "output_type": "execute_result"
    }
   ],
   "source": [
    "df = df[columns_keep]\n",
    "df.head(3)"
   ]
  },
  {
   "cell_type": "code",
   "execution_count": 5,
   "metadata": {},
   "outputs": [
    {
     "data": {
      "text/html": [
       "<div>\n",
       "<style scoped>\n",
       "    .dataframe tbody tr th:only-of-type {\n",
       "        vertical-align: middle;\n",
       "    }\n",
       "\n",
       "    .dataframe tbody tr th {\n",
       "        vertical-align: top;\n",
       "    }\n",
       "\n",
       "    .dataframe thead th {\n",
       "        text-align: right;\n",
       "    }\n",
       "</style>\n",
       "<table border=\"1\" class=\"dataframe\">\n",
       "  <thead>\n",
       "    <tr style=\"text-align: right;\">\n",
       "      <th></th>\n",
       "      <th>date_occurred</th>\n",
       "      <th>crime_description</th>\n",
       "      <th>victim_age</th>\n",
       "      <th>latitude</th>\n",
       "      <th>longitude</th>\n",
       "      <th>year_occurred</th>\n",
       "      <th>month_occurred</th>\n",
       "      <th>hour_occurred</th>\n",
       "      <th>day_occurred</th>\n",
       "    </tr>\n",
       "  </thead>\n",
       "  <tbody>\n",
       "    <tr>\n",
       "      <th>0</th>\n",
       "      <td>2020-01-08 22:30:00</td>\n",
       "      <td>BATTERY - SIMPLE ASSAULT</td>\n",
       "      <td>36</td>\n",
       "      <td>34.0141</td>\n",
       "      <td>-118.2978</td>\n",
       "      <td>2020</td>\n",
       "      <td>1</td>\n",
       "      <td>22</td>\n",
       "      <td>8</td>\n",
       "    </tr>\n",
       "    <tr>\n",
       "      <th>1</th>\n",
       "      <td>2020-01-01 03:30:00</td>\n",
       "      <td>BATTERY - SIMPLE ASSAULT</td>\n",
       "      <td>25</td>\n",
       "      <td>34.0459</td>\n",
       "      <td>-118.2545</td>\n",
       "      <td>2020</td>\n",
       "      <td>1</td>\n",
       "      <td>3</td>\n",
       "      <td>1</td>\n",
       "    </tr>\n",
       "    <tr>\n",
       "      <th>2</th>\n",
       "      <td>2020-02-13 12:00:00</td>\n",
       "      <td>SEX OFFENDER REGISTRANT OUT OF COMPLIANCE</td>\n",
       "      <td>0</td>\n",
       "      <td>34.0448</td>\n",
       "      <td>-118.2474</td>\n",
       "      <td>2020</td>\n",
       "      <td>2</td>\n",
       "      <td>12</td>\n",
       "      <td>13</td>\n",
       "    </tr>\n",
       "  </tbody>\n",
       "</table>\n",
       "</div>"
      ],
      "text/plain": [
       "        date_occurred                          crime_description  victim_age  \\\n",
       "0 2020-01-08 22:30:00                   BATTERY - SIMPLE ASSAULT          36   \n",
       "1 2020-01-01 03:30:00                   BATTERY - SIMPLE ASSAULT          25   \n",
       "2 2020-02-13 12:00:00  SEX OFFENDER REGISTRANT OUT OF COMPLIANCE           0   \n",
       "\n",
       "   latitude  longitude  year_occurred  month_occurred  hour_occurred  \\\n",
       "0   34.0141  -118.2978           2020               1             22   \n",
       "1   34.0459  -118.2545           2020               1              3   \n",
       "2   34.0448  -118.2474           2020               2             12   \n",
       "\n",
       "   day_occurred  \n",
       "0             8  \n",
       "1             1  \n",
       "2            13  "
      ]
     },
     "execution_count": 5,
     "metadata": {},
     "output_type": "execute_result"
    }
   ],
   "source": [
    "# Dates\n",
    "df['date_occurred'] = pd.to_datetime(df['date_occurred'], errors='coerce')\n",
    "df['year_occurred'] = df['date_occurred'].dt.year\n",
    "df['month_occurred'] = df['date_occurred'].dt.month\n",
    "df['hour_occurred'] = df['date_occurred'].dt.hour\n",
    "df['day_occurred'] = df['date_occurred'].dt.day\n",
    "\n",
    "df.head(3)"
   ]
  },
  {
   "cell_type": "markdown",
   "metadata": {},
   "source": [
    "# Logistic regression"
   ]
  },
  {
   "cell_type": "code",
   "execution_count": 6,
   "metadata": {},
   "outputs": [
    {
     "name": "stdout",
     "output_type": "stream",
     "text": [
      "<class 'pandas.core.frame.DataFrame'>\n",
      "RangeIndex: 852950 entries, 0 to 852949\n",
      "Data columns (total 9 columns):\n",
      " #   Column             Non-Null Count   Dtype         \n",
      "---  ------             --------------   -----         \n",
      " 0   date_occurred      852950 non-null  datetime64[ns]\n",
      " 1   crime_description  852950 non-null  object        \n",
      " 2   victim_age         852950 non-null  int64         \n",
      " 3   latitude           852950 non-null  float64       \n",
      " 4   longitude          852950 non-null  float64       \n",
      " 5   year_occurred      852950 non-null  int32         \n",
      " 6   month_occurred     852950 non-null  int32         \n",
      " 7   hour_occurred      852950 non-null  int32         \n",
      " 8   day_occurred       852950 non-null  int32         \n",
      "dtypes: datetime64[ns](1), float64(2), int32(4), int64(1), object(1)\n",
      "memory usage: 45.6+ MB\n"
     ]
    }
   ],
   "source": [
    "df.info()"
   ]
  },
  {
   "cell_type": "code",
   "execution_count": 7,
   "metadata": {},
   "outputs": [],
   "source": [
    "#Create the feature set\n",
    "\n",
    "X = df[['victim_age','latitude','longitude','day_occurred','month_occurred','year_occurred' ]]\n",
    "y = df['crime_description']\n",
    "\n",
    "# Instanciate model\n",
    "#model = LogisticRegression(max_iter=50)\n",
    "\n",
    "# 5-Fold Cross validate model\n",
    "#`cross_validate` doesn't return a fitted model\n",
    "#cv_results = cross_validate(model, X, y, cv=5)\n",
    "\n",
    "# Mean of accuracies\n",
    "#accuracy = cv_results['test_score'].mean()\n",
    "\n",
    "#accuracy"
   ]
  },
  {
   "cell_type": "code",
   "execution_count": 8,
   "metadata": {},
   "outputs": [
    {
     "name": "stderr",
     "output_type": "stream",
     "text": [
      "/home/cris/.pyenv/versions/3.10.6/envs/safe_live/lib/python3.10/site-packages/sklearn/linear_model/_logistic.py:469: ConvergenceWarning: lbfgs failed to converge (status=1):\n",
      "STOP: TOTAL NO. of ITERATIONS REACHED LIMIT.\n",
      "\n",
      "Increase the number of iterations (max_iter) or scale the data as shown in:\n",
      "    https://scikit-learn.org/stable/modules/preprocessing.html\n",
      "Please also refer to the documentation for alternative solver options:\n",
      "    https://scikit-learn.org/stable/modules/linear_model.html#logistic-regression\n",
      "  n_iter_i = _check_optimize_result(\n"
     ]
    },
    {
     "data": {
      "text/plain": [
       "0.17451198780702268"
      ]
     },
     "execution_count": 8,
     "metadata": {},
     "output_type": "execute_result"
    }
   ],
   "source": [
    "#Holdout 30% of the dataset as the test set for a final evaluation\n",
    "X_train, X_test, y_train, y_test = train_test_split(X, y,\n",
    "                                                    test_size=0.70,\n",
    "                                                    random_state=0)\n",
    "\n",
    "\n",
    "# STEP 1 - Instantiate and train the model on the training data\n",
    "log_model = LogisticRegression(max_iter=100).fit(X_train, y_train)\n",
    "\n",
    "\n",
    "# # STEP 2 - Predictions on the test set\n",
    "# Evaluate the model\n",
    "log_model.score(X_test, y_test)\n",
    "#y_pred = log_model.predict(X_test)\n",
    "\n",
    "\n",
    "\n",
    "\n",
    "# Use the trained model to predict\n",
    "#prediction = log_model.predict()\n",
    "\n",
    "#prediction"
   ]
  }
 ],
 "metadata": {
  "kernelspec": {
   "display_name": "safe_live",
   "language": "python",
   "name": "python3"
  },
  "language_info": {
   "codemirror_mode": {
    "name": "ipython",
    "version": 3
   },
   "file_extension": ".py",
   "mimetype": "text/x-python",
   "name": "python",
   "nbconvert_exporter": "python",
   "pygments_lexer": "ipython3",
   "version": "3.10.6"
  }
 },
 "nbformat": 4,
 "nbformat_minor": 2
}

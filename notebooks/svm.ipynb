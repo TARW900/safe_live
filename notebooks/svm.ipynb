{
 "cells": [
  {
   "cell_type": "markdown",
   "metadata": {},
   "source": [
    "# <a id='toc1_'></a>[Libraries and Data](#toc0_)"
   ]
  },
  {
   "cell_type": "markdown",
   "metadata": {},
   "source": [
    "**Table of contents**<a id='toc0_'></a>    \n",
    "- [Libraries and Data](#toc1_)    \n",
    "    - [Data Cleaning Notes](#toc1_1_1_)    \n",
    "  - [Features](#toc1_2_)    \n",
    "- [Data Cleaning](#toc2_)    \n",
    "  - [Feature Engineering](#toc2_1_)    \n",
    "  - [X and y](#toc2_2_)    \n",
    "  - [Encoding and scaling](#toc2_3_)    \n",
    "- [Baseline Model  - Logistic Regression](#toc3_)    \n",
    "\n",
    "<!-- vscode-jupyter-toc-config\n",
    "\tnumbering=false\n",
    "\tanchor=true\n",
    "\tflat=false\n",
    "\tminLevel=1\n",
    "\tmaxLevel=6\n",
    "\t/vscode-jupyter-toc-config -->\n",
    "<!-- THIS CELL WILL BE REPLACED ON TOC UPDATE. DO NOT WRITE YOUR TEXT IN THIS CELL -->"
   ]
  },
  {
   "cell_type": "code",
   "execution_count": 81,
   "metadata": {},
   "outputs": [],
   "source": [
    "import pandas as pd\n",
    "import os\n",
    "import sys\n",
    "import numpy as np\n",
    "\n",
    "# Data cleaning\n",
    "#from library import la_functions as la\n",
    "\n",
    "# Visualisation\n",
    "import matplotlib.pyplot as plt\n",
    "import seaborn as sns\n",
    "\n",
    "# Modelling\n",
    "from sklearn.model_selection import cross_validate\n",
    "from sklearn.linear_model import LogisticRegression\n",
    "from sklearn.model_selection import train_test_split\n",
    "from sklearn.preprocessing import MinMaxScaler, FunctionTransformer\n",
    "from sklearn.compose import ColumnTransformer\n",
    "from sklearn.pipeline import Pipeline\n",
    "from sklearn.metrics import confusion_matrix, classification_report\n",
    "\n",
    "# Export model\n",
    "import pickle\n",
    "\n",
    "# Path to the folder containing the pesonalized functions\n",
    "folder_path = os.path.abspath(os.path.join('..', 'library'))\n",
    "sys.path.insert(0, folder_path)\n",
    "\n",
    "# Now you can import your module or functions\n",
    "import la_functions as la"
   ]
  },
  {
   "cell_type": "code",
   "execution_count": 82,
   "metadata": {},
   "outputs": [],
   "source": [
    "# fetch all the data from the raw_data folder\n",
    "df = pd.read_csv('../raw_data/data.csv')"
   ]
  },
  {
   "cell_type": "markdown",
   "metadata": {},
   "source": [
    "### <a id='toc1_1_1_'></a>[Data Cleaning Notes](#toc0_)\n",
    "- Note: All crimes are unique, however when you remove a number of columns it appears that they are duplicates"
   ]
  },
  {
   "cell_type": "markdown",
   "metadata": {},
   "source": [
    "## <a id='toc1_2_'></a>[Features](#toc0_)"
   ]
  },
  {
   "cell_type": "markdown",
   "metadata": {},
   "source": [
    "- What do '-' mean?\n",
    "- Code drop down using dictionary mapping\n",
    "- What does H mean?"
   ]
  },
  {
   "cell_type": "markdown",
   "metadata": {},
   "source": [
    "# <a id='toc2_'></a>[Data Cleaning](#toc0_)"
   ]
  },
  {
   "cell_type": "code",
   "execution_count": 83,
   "metadata": {},
   "outputs": [
    {
     "data": {
      "text/plain": [
       "664923"
      ]
     },
     "execution_count": 83,
     "metadata": {},
     "output_type": "execute_result"
    }
   ],
   "source": [
    "# Remove victim_sex rows with missing data\n",
    "col_remove_sex = ['X', '-']\n",
    "df = df[~df['victim_sex'].isin(col_remove_sex)]\n",
    "df = df[df['victim_sex'].notnull()]\n",
    "len(df)\n"
   ]
  },
  {
   "cell_type": "code",
   "execution_count": 84,
   "metadata": {},
   "outputs": [
    {
     "data": {
      "text/plain": [
       "656473"
      ]
     },
     "execution_count": 84,
     "metadata": {},
     "output_type": "execute_result"
    }
   ],
   "source": [
    "# Remove victim_descent rows with missing data\n",
    "df = df[df['victim_descent'].notnull()]\n",
    "col_remove_descent = ['X', '-']\n",
    "df = df[~df['victim_descent'].isin(col_remove_descent)]\n",
    "len(df)"
   ]
  },
  {
   "cell_type": "code",
   "execution_count": 85,
   "metadata": {},
   "outputs": [
    {
     "data": {
      "text/plain": [
       "656450"
      ]
     },
     "execution_count": 85,
     "metadata": {},
     "output_type": "execute_result"
    }
   ],
   "source": [
    "# Remove victim age = 0\n",
    "df=df[df['victim_age']>=0]\n",
    "len(df)"
   ]
  },
  {
   "cell_type": "code",
   "execution_count": 87,
   "metadata": {},
   "outputs": [],
   "source": [
    "# lower case\n",
    "df.crime_description = df.crime_description.str.lower()"
   ]
  },
  {
   "cell_type": "code",
   "execution_count": 88,
   "metadata": {},
   "outputs": [
    {
     "name": "stderr",
     "output_type": "stream",
     "text": [
      "/tmp/ipykernel_5580/382675547.py:2: FutureWarning: A value is trying to be set on a copy of a DataFrame or Series through chained assignment using an inplace method.\n",
      "The behavior will change in pandas 3.0. This inplace method will never work because the intermediate object on which we are setting values always behaves as a copy.\n",
      "\n",
      "For example, when doing 'df[col].method(value, inplace=True)', try using 'df.method({col: value}, inplace=True)' or df[col] = df[col].method(value) instead, to perform the operation inplace on the original object.\n",
      "\n",
      "\n",
      "  df['weapon_description'].fillna('None', inplace=True)\n"
     ]
    }
   ],
   "source": [
    "# Group weapons into type and prepare for encoding\n",
    "df['weapon_description'].fillna('None', inplace=True)\n",
    "weapon_types = {\n",
    "    'STRONG-ARM (HANDS, FIST, FEET OR BODILY FORCE)': 'Physical Force',\n",
    "    'UNKNOWN WEAPON/OTHER WEAPON': 'Unknown',\n",
    "    'VERBAL THREAT': 'Verbal Threat',\n",
    "    'HAND GUN': 'Firearm',\n",
    "    'SEMI-AUTOMATIC PISTOL': 'Firearm',\n",
    "    'KNIFE WITH BLADE 6INCHES OR LESS': 'Knife',\n",
    "    'UNKNOWN FIREARM': 'Firearm',\n",
    "    'OTHER KNIFE': 'Knife',\n",
    "    'MACE/PEPPER SPRAY': 'Chemical',\n",
    "    'VEHICLE': 'Vehicle',\n",
    "    'ROCK/THROWN OBJECT': 'Thrown Object',\n",
    "    'PIPE/METAL PIPE': 'Blunt Object',\n",
    "    'BOTTLE': 'Blunt Object',\n",
    "    'STICK': 'Blunt Object',\n",
    "    'FOLDING KNIFE': 'Knife',\n",
    "    'CLUB/BAT': 'Blunt Object',\n",
    "    'KITCHEN KNIFE': 'Knife',\n",
    "    'AIR PISTOL/REVOLVER/RIFLE/BB GUN': 'Firearm',\n",
    "    'KNIFE WITH BLADE OVER 6 INCHES IN LENGTH': 'Knife',\n",
    "    'BLUNT INSTRUMENT': 'Blunt Object',\n",
    "    'HAMMER': 'Blunt Object',\n",
    "    'SIMULATED GUN': 'Firearm',\n",
    "    'REVOLVER': 'Firearm',\n",
    "    'MACHETE': 'Knife',\n",
    "    'OTHER FIREARM': 'Firearm',\n",
    "    'OTHER CUTTING INSTRUMENT': 'Knife',\n",
    "    'PHYSICAL PRESENCE': 'Physical Force',\n",
    "    'UNKNOWN TYPE CUTTING INSTRUMENT': 'Knife',\n",
    "    'SCREWDRIVER': 'Sharp Object',\n",
    "    'CONCRETE BLOCK/BRICK': 'Blunt Object',\n",
    "    'FIRE': 'Fire',\n",
    "    'BELT FLAILING INSTRUMENT/CHAIN': 'Blunt Object',\n",
    "    'SCISSORS': 'Sharp Object',\n",
    "    'RIFLE': 'Firearm',\n",
    "    'FIXED OBJECT': 'Blunt Object',\n",
    "    'STUN GUN': 'Electric Weapon',\n",
    "    'GLASS': 'Sharp Object',\n",
    "    'AXE': 'Sharp Object',\n",
    "    'BOARD': 'Blunt Object',\n",
    "    'SHOTGUN': 'Firearm',\n",
    "    'CAUSTIC CHEMICAL/POISON': 'Chemical',\n",
    "    'SWITCH BLADE': 'Knife',\n",
    "    'BRASS KNUCKLES': 'Blunt Object',\n",
    "    'BOMB THREAT': 'Explosive',\n",
    "    'TOY GUN': 'Firearm',\n",
    "    'TIRE IRON': 'Blunt Object',\n",
    "    'SCALDING LIQUID': 'Chemical',\n",
    "    'SWORD': 'Sharp Object',\n",
    "    'RAZOR BLADE': 'Sharp Object',\n",
    "    'HECKLER & KOCH 93 SEMIAUTOMATIC ASSAULT RIFLE': 'Firearm',\n",
    "    'DIRK/DAGGER': 'Knife',\n",
    "    'EXPLOXIVE DEVICE': 'Explosive',\n",
    "    'ASSAULT WEAPON/UZI/AK47/ETC': 'Firearm',\n",
    "    'DEMAND NOTE': 'Threat',\n",
    "    'ICE PICK': 'Sharp Object',\n",
    "    'RAZOR': 'Sharp Object',\n",
    "    'LIQUOR/DRUGS': 'Chemical',\n",
    "    'SEMI-AUTOMATIC RIFLE': 'Firearm',\n",
    "    'DOG/ANIMAL (SIC ANIMAL ON)': 'Animal',\n",
    "    'ROPE/LIGATURE': 'Strangling',\n",
    "    'STARTER PISTOL/REVOLVER': 'Firearm',\n",
    "    'CLEAVER': 'Knife',\n",
    "    'BOWIE KNIFE': 'Knife',\n",
    "    'SAWED OFF RIFLE/SHOTGUN': 'Firearm',\n",
    "    'AUTOMATIC WEAPON/SUB-MACHINE GUN': 'Firearm',\n",
    "    'BOW AND ARROW': 'Projectile',\n",
    "    'SYRINGE': 'Sharp Object',\n",
    "    'STRAIGHT RAZOR': 'Sharp Object',\n",
    "    'MARTIAL ARTS WEAPONS': 'Physical Force',\n",
    "    'UNK TYPE SEMIAUTOMATIC ASSAULT RIFLE': 'Firearm',\n",
    "    'BLACKJACK': 'Blunt Object',\n",
    "    'RELIC FIREARM': 'Firearm',\n",
    "    'ANTIQUE FIREARM': 'Firearm',\n",
    "    'UZI SEMIAUTOMATIC ASSAULT RIFLE': 'Firearm',\n",
    "    'MAC-11 SEMIAUTOMATIC ASSAULT WEAPON': 'Firearm',\n",
    "    'MAC-10 SEMIAUTOMATIC ASSAULT WEAPON': 'Firearm',\n",
    "    'HECKLER & KOCH 91 SEMIAUTOMATIC ASSAULT RIFLE': 'Firearm',\n",
    "    'M1-1 SEMIAUTOMATIC ASSAULT RIFLE': 'Firearm',\n",
    "    'M-14 SEMIAUTOMATIC ASSAULT RIFLE': 'Firearm',\n",
    "    'None': 'None'\n",
    "}\n",
    "\n",
    "# Creating a new column 'weapon_type' based on the mapping\n",
    "df['weapon_type'] = df['weapon_description'].map(weapon_types)\n",
    "\n",
    "# Additional engineering could include severity\n"
   ]
  },
  {
   "cell_type": "code",
   "execution_count": 115,
   "metadata": {},
   "outputs": [],
   "source": [
    "# Drop null values in Premise code\n",
    "df = df.dropna(subset=['premise_code'])"
   ]
  },
  {
   "cell_type": "markdown",
   "metadata": {},
   "source": [
    "## <a id='toc2_1_'></a>[Feature Engineering](#toc0_)"
   ]
  },
  {
   "cell_type": "code",
   "execution_count": 89,
   "metadata": {},
   "outputs": [],
   "source": [
    "# Split 'date_occurred' into year, month,  day, hour and drop date occurred\n",
    "df['date_occurred'] = pd.to_datetime(df['date_occurred'])\n",
    "df['year_occurred'] = df['date_occurred'].dt.year\n",
    "df['month_occurred'] = df['date_occurred'].dt.month\n",
    "df['day_occurred'] = df['date_occurred'].dt.day\n",
    "df['hour_occurred'] = df['date_occurred'].dt.hour"
   ]
  },
  {
   "cell_type": "code",
   "execution_count": 90,
   "metadata": {},
   "outputs": [],
   "source": [
    "# Create new column 'time_of_day' based on time and drop hour occurred\n",
    "def categorize_time(hour):\n",
    "    if 6 <= hour < 12:\n",
    "        return 'morning'\n",
    "    elif 12 <= hour < 18:\n",
    "        return 'afternoon'\n",
    "    elif 18 <= hour < 24:\n",
    "        return 'evening'\n",
    "    else:\n",
    "        return 'night'\n",
    "\n",
    "df['time_of_day'] = df['hour_occurred'].apply(categorize_time)"
   ]
  },
  {
   "cell_type": "markdown",
   "metadata": {},
   "source": [
    "## <a id='toc2_2_'></a>[X and y](#toc0_)"
   ]
  },
  {
   "cell_type": "code",
   "execution_count": 91,
   "metadata": {},
   "outputs": [
    {
     "data": {
      "text/plain": [
       "Index(['division_number', 'date_reported', 'date_occurred', 'area',\n",
       "       'area_name', 'reporting_district', 'part', 'crime_code',\n",
       "       'crime_description', 'modus_operandi', 'victim_age', 'victim_sex',\n",
       "       'victim_descent', 'premise_code', 'premise_description', 'weapon_code',\n",
       "       'weapon_description', 'status', 'status_description', 'crime_code_1',\n",
       "       'crime_code_2', 'crime_code_3', 'crime_code_4', 'location',\n",
       "       'cross_street', 'latitude', 'longitude', 'weapon_type', 'year_occurred',\n",
       "       'month_occurred', 'day_occurred', 'hour_occurred', 'time_of_day'],\n",
       "      dtype='object')"
      ]
     },
     "execution_count": 91,
     "metadata": {},
     "output_type": "execute_result"
    }
   ],
   "source": [
    "df.columns"
   ]
  },
  {
   "cell_type": "code",
   "execution_count": 116,
   "metadata": {},
   "outputs": [],
   "source": [
    "# Features that lack relevance\n",
    "irrelevant_cols = df[['division_number', 'date_reported', 'reporting_district', 'part', 'modus_operandi', 'status', 'status_description', 'crime_code_1',\n",
    "       'crime_code_2', 'crime_code_3', 'crime_code_4','cross_street']]\n",
    "\n",
    "# Features that are duplicates of numerical features (e.g. description vs code))\n",
    "cat_duplicates = df[['area_name', 'crime_description', 'premise_description', 'weapon_description', 'location']]\n",
    "num_duplicates = df[['weapon_code', 'date_occurred']]\n",
    "\n",
    "\n",
    "X = df[['victim_age', 'crime_code', 'victim_sex', 'victim_descent', 'premise_code', 'latitude', 'longitude', 'weapon_type', 'year_occurred',\n",
    "       'month_occurred', 'day_occurred', 'hour_occurred', 'time_of_day' ]]\n"
   ]
  },
  {
   "cell_type": "code",
   "execution_count": 117,
   "metadata": {},
   "outputs": [],
   "source": [
    "def assign_gravity(crime_description):\n",
    "    if any(word in crime_description for word in ['petty theft', 'vandalism', 'minor fraud', 'trespass','stole']):\n",
    "        return 1  # Low Gravity\n",
    "    elif any(word in crime_description for word in ['burglary', 'serious fraud', 'aggravated assault', 'robbery']):\n",
    "        return 2  # Medium Gravity\n",
    "    elif any(word in crime_description for word in ['homicide', 'rape', 'kidnapping', 'arson','dead','penetration','penis','child pornography']):\n",
    "        return 3  # High Gravity\n",
    "    else:\n",
    "        return 1  # Default to Low Gravity if not clearly fitting other categories\n",
    "\n",
    "\n",
    "df['crime_gravity'] = df.crime_description.apply(assign_gravity)\n",
    "y = df['crime_gravity']"
   ]
  },
  {
   "cell_type": "markdown",
   "metadata": {},
   "source": [
    "## <a id='toc2_3_'></a>[Encoding and scaling](#toc0_)"
   ]
  },
  {
   "cell_type": "code",
   "execution_count": 118,
   "metadata": {},
   "outputs": [],
   "source": [
    "num_values = X.select_dtypes(include=['number'])\n",
    "cat_values = X.select_dtypes(include=['object'])"
   ]
  },
  {
   "cell_type": "code",
   "execution_count": 119,
   "metadata": {},
   "outputs": [
    {
     "name": "stderr",
     "output_type": "stream",
     "text": [
      "/tmp/ipykernel_5580/1381164728.py:2: FutureWarning: Downcasting behavior in `replace` is deprecated and will be removed in a future version. To retain the old behavior, explicitly call `result.infer_objects(copy=False)`. To opt-in to the future behavior, set `pd.set_option('future.no_silent_downcasting', True)`\n",
      "  X_cat_encoded = X_cat_encoded.replace({True: 1, False: 0})\n"
     ]
    },
    {
     "data": {
      "text/html": [
       "<div>\n",
       "<style scoped>\n",
       "    .dataframe tbody tr th:only-of-type {\n",
       "        vertical-align: middle;\n",
       "    }\n",
       "\n",
       "    .dataframe tbody tr th {\n",
       "        vertical-align: top;\n",
       "    }\n",
       "\n",
       "    .dataframe thead th {\n",
       "        text-align: right;\n",
       "    }\n",
       "</style>\n",
       "<table border=\"1\" class=\"dataframe\">\n",
       "  <thead>\n",
       "    <tr style=\"text-align: right;\">\n",
       "      <th></th>\n",
       "      <th>victim_age</th>\n",
       "      <th>crime_code</th>\n",
       "      <th>premise_code</th>\n",
       "      <th>latitude</th>\n",
       "      <th>longitude</th>\n",
       "      <th>year_occurred</th>\n",
       "      <th>month_occurred</th>\n",
       "      <th>day_occurred</th>\n",
       "      <th>hour_occurred</th>\n",
       "      <th>victim_sex_F</th>\n",
       "      <th>...</th>\n",
       "      <th>weapon_type_Strangling</th>\n",
       "      <th>weapon_type_Threat</th>\n",
       "      <th>weapon_type_Thrown Object</th>\n",
       "      <th>weapon_type_Unknown</th>\n",
       "      <th>weapon_type_Vehicle</th>\n",
       "      <th>weapon_type_Verbal Threat</th>\n",
       "      <th>time_of_day_afternoon</th>\n",
       "      <th>time_of_day_evening</th>\n",
       "      <th>time_of_day_morning</th>\n",
       "      <th>time_of_day_night</th>\n",
       "    </tr>\n",
       "  </thead>\n",
       "  <tbody>\n",
       "    <tr>\n",
       "      <th>0</th>\n",
       "      <td>36</td>\n",
       "      <td>624</td>\n",
       "      <td>501.0</td>\n",
       "      <td>34.0141</td>\n",
       "      <td>-118.2978</td>\n",
       "      <td>2020</td>\n",
       "      <td>1</td>\n",
       "      <td>8</td>\n",
       "      <td>22</td>\n",
       "      <td>1</td>\n",
       "      <td>...</td>\n",
       "      <td>0</td>\n",
       "      <td>0</td>\n",
       "      <td>0</td>\n",
       "      <td>0</td>\n",
       "      <td>0</td>\n",
       "      <td>0</td>\n",
       "      <td>0</td>\n",
       "      <td>1</td>\n",
       "      <td>0</td>\n",
       "      <td>0</td>\n",
       "    </tr>\n",
       "    <tr>\n",
       "      <th>1</th>\n",
       "      <td>25</td>\n",
       "      <td>624</td>\n",
       "      <td>102.0</td>\n",
       "      <td>34.0459</td>\n",
       "      <td>-118.2545</td>\n",
       "      <td>2020</td>\n",
       "      <td>1</td>\n",
       "      <td>1</td>\n",
       "      <td>3</td>\n",
       "      <td>0</td>\n",
       "      <td>...</td>\n",
       "      <td>0</td>\n",
       "      <td>0</td>\n",
       "      <td>0</td>\n",
       "      <td>1</td>\n",
       "      <td>0</td>\n",
       "      <td>0</td>\n",
       "      <td>0</td>\n",
       "      <td>0</td>\n",
       "      <td>0</td>\n",
       "      <td>1</td>\n",
       "    </tr>\n",
       "    <tr>\n",
       "      <th>3</th>\n",
       "      <td>76</td>\n",
       "      <td>745</td>\n",
       "      <td>502.0</td>\n",
       "      <td>34.1685</td>\n",
       "      <td>-118.4019</td>\n",
       "      <td>2020</td>\n",
       "      <td>1</td>\n",
       "      <td>1</td>\n",
       "      <td>17</td>\n",
       "      <td>1</td>\n",
       "      <td>...</td>\n",
       "      <td>0</td>\n",
       "      <td>0</td>\n",
       "      <td>0</td>\n",
       "      <td>0</td>\n",
       "      <td>0</td>\n",
       "      <td>0</td>\n",
       "      <td>1</td>\n",
       "      <td>0</td>\n",
       "      <td>0</td>\n",
       "      <td>0</td>\n",
       "    </tr>\n",
       "    <tr>\n",
       "      <th>5</th>\n",
       "      <td>25</td>\n",
       "      <td>121</td>\n",
       "      <td>735.0</td>\n",
       "      <td>34.0452</td>\n",
       "      <td>-118.2534</td>\n",
       "      <td>2020</td>\n",
       "      <td>1</td>\n",
       "      <td>1</td>\n",
       "      <td>0</td>\n",
       "      <td>1</td>\n",
       "      <td>...</td>\n",
       "      <td>0</td>\n",
       "      <td>0</td>\n",
       "      <td>0</td>\n",
       "      <td>1</td>\n",
       "      <td>0</td>\n",
       "      <td>0</td>\n",
       "      <td>0</td>\n",
       "      <td>0</td>\n",
       "      <td>0</td>\n",
       "      <td>1</td>\n",
       "    </tr>\n",
       "    <tr>\n",
       "      <th>6</th>\n",
       "      <td>23</td>\n",
       "      <td>442</td>\n",
       "      <td>404.0</td>\n",
       "      <td>34.0483</td>\n",
       "      <td>-118.2631</td>\n",
       "      <td>2020</td>\n",
       "      <td>1</td>\n",
       "      <td>2</td>\n",
       "      <td>13</td>\n",
       "      <td>0</td>\n",
       "      <td>...</td>\n",
       "      <td>0</td>\n",
       "      <td>0</td>\n",
       "      <td>0</td>\n",
       "      <td>0</td>\n",
       "      <td>0</td>\n",
       "      <td>0</td>\n",
       "      <td>1</td>\n",
       "      <td>0</td>\n",
       "      <td>0</td>\n",
       "      <td>0</td>\n",
       "    </tr>\n",
       "  </tbody>\n",
       "</table>\n",
       "<p>5 rows × 52 columns</p>\n",
       "</div>"
      ],
      "text/plain": [
       "   victim_age  crime_code  premise_code  latitude  longitude  year_occurred  \\\n",
       "0          36         624         501.0   34.0141  -118.2978           2020   \n",
       "1          25         624         102.0   34.0459  -118.2545           2020   \n",
       "3          76         745         502.0   34.1685  -118.4019           2020   \n",
       "5          25         121         735.0   34.0452  -118.2534           2020   \n",
       "6          23         442         404.0   34.0483  -118.2631           2020   \n",
       "\n",
       "   month_occurred  day_occurred  hour_occurred  victim_sex_F  ...  \\\n",
       "0               1             8             22             1  ...   \n",
       "1               1             1              3             0  ...   \n",
       "3               1             1             17             1  ...   \n",
       "5               1             1              0             1  ...   \n",
       "6               1             2             13             0  ...   \n",
       "\n",
       "   weapon_type_Strangling  weapon_type_Threat  weapon_type_Thrown Object  \\\n",
       "0                       0                   0                          0   \n",
       "1                       0                   0                          0   \n",
       "3                       0                   0                          0   \n",
       "5                       0                   0                          0   \n",
       "6                       0                   0                          0   \n",
       "\n",
       "   weapon_type_Unknown  weapon_type_Vehicle  weapon_type_Verbal Threat  \\\n",
       "0                    0                    0                          0   \n",
       "1                    1                    0                          0   \n",
       "3                    0                    0                          0   \n",
       "5                    1                    0                          0   \n",
       "6                    0                    0                          0   \n",
       "\n",
       "   time_of_day_afternoon  time_of_day_evening  time_of_day_morning  \\\n",
       "0                      0                    1                    0   \n",
       "1                      0                    0                    0   \n",
       "3                      1                    0                    0   \n",
       "5                      0                    0                    0   \n",
       "6                      1                    0                    0   \n",
       "\n",
       "   time_of_day_night  \n",
       "0                  0  \n",
       "1                  1  \n",
       "3                  0  \n",
       "5                  1  \n",
       "6                  0  \n",
       "\n",
       "[5 rows x 52 columns]"
      ]
     },
     "execution_count": 119,
     "metadata": {},
     "output_type": "execute_result"
    }
   ],
   "source": [
    "X_cat_encoded = pd.get_dummies(X, columns=cat_values.columns)\n",
    "X_cat_encoded = X_cat_encoded.replace({True: 1, False: 0})\n",
    "X_cat_encoded.head()"
   ]
  },
  {
   "cell_type": "code",
   "execution_count": 120,
   "metadata": {},
   "outputs": [],
   "source": [
    "scaler = MinMaxScaler()\n",
    "X_scaled = scaler.fit_transform(X_cat_encoded)\n",
    "X_scaled_df = pd.DataFrame(X_scaled, columns = X_cat_encoded.columns)\n"
   ]
  },
  {
   "cell_type": "markdown",
   "metadata": {},
   "source": [
    "## Basic Logistic Regression"
   ]
  },
  {
   "cell_type": "code",
   "execution_count": 122,
   "metadata": {},
   "outputs": [
    {
     "data": {
      "text/plain": [
       "((656449, 52), (656449,))"
      ]
     },
     "execution_count": 122,
     "metadata": {},
     "output_type": "execute_result"
    }
   ],
   "source": [
    "X_scaled.shape, y.shape"
   ]
  },
  {
   "cell_type": "code",
   "execution_count": 123,
   "metadata": {},
   "outputs": [],
   "source": [
    "X_train, X_test, y_train, y_test = train_test_split(X_scaled, y, test_size=0.2, random_state=42)"
   ]
  },
  {
   "cell_type": "code",
   "execution_count": 124,
   "metadata": {},
   "outputs": [
    {
     "name": "stderr",
     "output_type": "stream",
     "text": [
      "/home/tomw/.pyenv/versions/3.10.6/envs/safe_live/lib/python3.10/site-packages/sklearn/linear_model/_logistic.py:460: ConvergenceWarning: lbfgs failed to converge (status=1):\n",
      "STOP: TOTAL NO. of ITERATIONS REACHED LIMIT.\n",
      "\n",
      "Increase the number of iterations (max_iter) or scale the data as shown in:\n",
      "    https://scikit-learn.org/stable/modules/preprocessing.html\n",
      "Please also refer to the documentation for alternative solver options:\n",
      "    https://scikit-learn.org/stable/modules/linear_model.html#logistic-regression\n",
      "  n_iter_i = _check_optimize_result(\n",
      "/home/tomw/.pyenv/versions/3.10.6/envs/safe_live/lib/python3.10/site-packages/sklearn/linear_model/_logistic.py:460: ConvergenceWarning: lbfgs failed to converge (status=1):\n",
      "STOP: TOTAL NO. of ITERATIONS REACHED LIMIT.\n",
      "\n",
      "Increase the number of iterations (max_iter) or scale the data as shown in:\n",
      "    https://scikit-learn.org/stable/modules/preprocessing.html\n",
      "Please also refer to the documentation for alternative solver options:\n",
      "    https://scikit-learn.org/stable/modules/linear_model.html#logistic-regression\n",
      "  n_iter_i = _check_optimize_result(\n",
      "/home/tomw/.pyenv/versions/3.10.6/envs/safe_live/lib/python3.10/site-packages/sklearn/linear_model/_logistic.py:460: ConvergenceWarning: lbfgs failed to converge (status=1):\n",
      "STOP: TOTAL NO. of ITERATIONS REACHED LIMIT.\n",
      "\n",
      "Increase the number of iterations (max_iter) or scale the data as shown in:\n",
      "    https://scikit-learn.org/stable/modules/preprocessing.html\n",
      "Please also refer to the documentation for alternative solver options:\n",
      "    https://scikit-learn.org/stable/modules/linear_model.html#logistic-regression\n",
      "  n_iter_i = _check_optimize_result(\n",
      "/home/tomw/.pyenv/versions/3.10.6/envs/safe_live/lib/python3.10/site-packages/sklearn/linear_model/_logistic.py:460: ConvergenceWarning: lbfgs failed to converge (status=1):\n",
      "STOP: TOTAL NO. of ITERATIONS REACHED LIMIT.\n",
      "\n",
      "Increase the number of iterations (max_iter) or scale the data as shown in:\n",
      "    https://scikit-learn.org/stable/modules/preprocessing.html\n",
      "Please also refer to the documentation for alternative solver options:\n",
      "    https://scikit-learn.org/stable/modules/linear_model.html#logistic-regression\n",
      "  n_iter_i = _check_optimize_result(\n",
      "/home/tomw/.pyenv/versions/3.10.6/envs/safe_live/lib/python3.10/site-packages/sklearn/linear_model/_logistic.py:460: ConvergenceWarning: lbfgs failed to converge (status=1):\n",
      "STOP: TOTAL NO. of ITERATIONS REACHED LIMIT.\n",
      "\n",
      "Increase the number of iterations (max_iter) or scale the data as shown in:\n",
      "    https://scikit-learn.org/stable/modules/preprocessing.html\n",
      "Please also refer to the documentation for alternative solver options:\n",
      "    https://scikit-learn.org/stable/modules/linear_model.html#logistic-regression\n",
      "  n_iter_i = _check_optimize_result(\n"
     ]
    },
    {
     "data": {
      "text/plain": [
       "0.9187872716665767"
      ]
     },
     "execution_count": 124,
     "metadata": {},
     "output_type": "execute_result"
    }
   ],
   "source": [
    "lr_model = LogisticRegression(max_iter=100000)\n",
    "\n",
    "cv_results = cross_validate(lr_model, X_scaled, y, cv=5)\n",
    "\n",
    "accuracy = cv_results['test_score'].mean()\n",
    "accuracy"
   ]
  },
  {
   "cell_type": "code",
   "execution_count": 125,
   "metadata": {},
   "outputs": [
    {
     "name": "stderr",
     "output_type": "stream",
     "text": [
      "/home/tomw/.pyenv/versions/3.10.6/envs/safe_live/lib/python3.10/site-packages/sklearn/linear_model/_logistic.py:460: ConvergenceWarning: lbfgs failed to converge (status=1):\n",
      "STOP: TOTAL NO. of ITERATIONS REACHED LIMIT.\n",
      "\n",
      "Increase the number of iterations (max_iter) or scale the data as shown in:\n",
      "    https://scikit-learn.org/stable/modules/preprocessing.html\n",
      "Please also refer to the documentation for alternative solver options:\n",
      "    https://scikit-learn.org/stable/modules/linear_model.html#logistic-regression\n",
      "  n_iter_i = _check_optimize_result(\n"
     ]
    },
    {
     "data": {
      "text/plain": [
       "0.9200965802737837"
      ]
     },
     "execution_count": 125,
     "metadata": {},
     "output_type": "execute_result"
    }
   ],
   "source": [
    "lr_model.fit(X_train, y_train)\n",
    "lr_model.score(X_train, y_train)"
   ]
  },
  {
   "cell_type": "code",
   "execution_count": 126,
   "metadata": {},
   "outputs": [],
   "source": [
    "y_pred = lr_model.predict(X_test)"
   ]
  },
  {
   "cell_type": "code",
   "execution_count": 128,
   "metadata": {},
   "outputs": [
    {
     "name": "stdout",
     "output_type": "stream",
     "text": [
      "Classification Report:\n",
      "              precision    recall  f1-score   support\n",
      "\n",
      "           1       0.95      0.95      0.95     93051\n",
      "           2       0.85      0.89      0.87     36018\n",
      "           3       0.60      0.03      0.05      2221\n",
      "\n",
      "    accuracy                           0.92    131290\n",
      "   macro avg       0.80      0.62      0.62    131290\n",
      "weighted avg       0.92      0.92      0.91    131290\n",
      "\n",
      "Confusion Matrix:\n",
      "[[88743  4286    22]\n",
      " [ 3962 32038    18]\n",
      " [  998  1163    60]]\n"
     ]
    }
   ],
   "source": [
    "print(\"Classification Report:\")\n",
    "print(classification_report(y_test, y_pred))\n",
    "\n",
    "print(\"Confusion Matrix:\")\n",
    "print(confusion_matrix(y_test, y_pred))"
   ]
  },
  {
   "cell_type": "markdown",
   "metadata": {},
   "source": [
    "# <a id='toc3_'></a>[Baseline Model  - Logistic Regression](#toc0_)"
   ]
  },
  {
   "cell_type": "code",
   "execution_count": 7,
   "metadata": {},
   "outputs": [],
   "source": [
    "X = df[['victim_age','latitude','longitude','day_occurred','month_occurred','year_occurred']]\n",
    "y = df['crime_gravity']"
   ]
  },
  {
   "cell_type": "code",
   "execution_count": 21,
   "metadata": {},
   "outputs": [
    {
     "data": {
      "text/plain": [
       "victim_age\n",
       " 0      211842\n",
       " 30      19421\n",
       " 35      19008\n",
       " 31      18603\n",
       " 29      18552\n",
       "         ...  \n",
       " 97         63\n",
       "-1          60\n",
       "-2          13\n",
       " 120         1\n",
       "-3           1\n",
       "Name: count, Length: 103, dtype: int64"
      ]
     },
     "execution_count": 21,
     "metadata": {},
     "output_type": "execute_result"
    }
   ],
   "source": [
    "df.victim_age.value_counts()"
   ]
  },
  {
   "cell_type": "code",
   "execution_count": 8,
   "metadata": {},
   "outputs": [],
   "source": [
    "X_train, X_test, y_train, y_test = train_test_split(X, y, test_size=0.2, random_state=42)"
   ]
  },
  {
   "cell_type": "code",
   "execution_count": 36,
   "metadata": {},
   "outputs": [],
   "source": [
    "# DATA CLEANING PIPES\n",
    "def isolate_age(X):\n",
    "    return X.apply(lambda age: age if 1 <= age <= 99 else None)\n",
    "\n",
    "def dropna(X):\n",
    "    return X.dropna()\n",
    "\n",
    "# Remove null values from Age\n",
    "dropna_pipe = FunctionTransformer(dropna)\n",
    "\n",
    "# select valid age range\n",
    "age_range_pipe = FunctionTransformer(isolate_age)\n"
   ]
  },
  {
   "cell_type": "code",
   "execution_count": 37,
   "metadata": {},
   "outputs": [],
   "source": [
    "# Preprocess numerical data\n",
    "norm_scaler = MinMaxScaler()\n",
    "preprocessor = ColumnTransformer(\n",
    "    transformers=[\n",
    "        #('dropna_pipe', dropna_pipe, ['victim_age']),\n",
    "        #('age_range_pipe', age_range_pipe, ['victim_age']),\n",
    "        ('num', norm_scaler, ['victim_age', 'latitude', 'longitude', 'day_occurred', 'month_occurred', 'year_occurred'])\n",
    "    ])"
   ]
  },
  {
   "cell_type": "code",
   "execution_count": 38,
   "metadata": {},
   "outputs": [],
   "source": [
    "# Logistic Regression model\n",
    "lr_model = Pipeline(steps=[\n",
    "    ('preprocessor', preprocessor),\n",
    "    ('classifier', LogisticRegression())\n",
    "])"
   ]
  },
  {
   "cell_type": "code",
   "execution_count": 39,
   "metadata": {},
   "outputs": [
    {
     "name": "stderr",
     "output_type": "stream",
     "text": [
      "/home/tomw/.pyenv/versions/3.10.6/envs/safe_live/lib/python3.10/site-packages/sklearn/linear_model/_logistic.py:460: ConvergenceWarning: lbfgs failed to converge (status=1):\n",
      "STOP: TOTAL NO. of ITERATIONS REACHED LIMIT.\n",
      "\n",
      "Increase the number of iterations (max_iter) or scale the data as shown in:\n",
      "    https://scikit-learn.org/stable/modules/preprocessing.html\n",
      "Please also refer to the documentation for alternative solver options:\n",
      "    https://scikit-learn.org/stable/modules/linear_model.html#logistic-regression\n",
      "  n_iter_i = _check_optimize_result(\n"
     ]
    },
    {
     "data": {
      "text/html": [
       "<style>#sk-container-id-1 {color: black;}#sk-container-id-1 pre{padding: 0;}#sk-container-id-1 div.sk-toggleable {background-color: white;}#sk-container-id-1 label.sk-toggleable__label {cursor: pointer;display: block;width: 100%;margin-bottom: 0;padding: 0.3em;box-sizing: border-box;text-align: center;}#sk-container-id-1 label.sk-toggleable__label-arrow:before {content: \"▸\";float: left;margin-right: 0.25em;color: #696969;}#sk-container-id-1 label.sk-toggleable__label-arrow:hover:before {color: black;}#sk-container-id-1 div.sk-estimator:hover label.sk-toggleable__label-arrow:before {color: black;}#sk-container-id-1 div.sk-toggleable__content {max-height: 0;max-width: 0;overflow: hidden;text-align: left;background-color: #f0f8ff;}#sk-container-id-1 div.sk-toggleable__content pre {margin: 0.2em;color: black;border-radius: 0.25em;background-color: #f0f8ff;}#sk-container-id-1 input.sk-toggleable__control:checked~div.sk-toggleable__content {max-height: 200px;max-width: 100%;overflow: auto;}#sk-container-id-1 input.sk-toggleable__control:checked~label.sk-toggleable__label-arrow:before {content: \"▾\";}#sk-container-id-1 div.sk-estimator input.sk-toggleable__control:checked~label.sk-toggleable__label {background-color: #d4ebff;}#sk-container-id-1 div.sk-label input.sk-toggleable__control:checked~label.sk-toggleable__label {background-color: #d4ebff;}#sk-container-id-1 input.sk-hidden--visually {border: 0;clip: rect(1px 1px 1px 1px);clip: rect(1px, 1px, 1px, 1px);height: 1px;margin: -1px;overflow: hidden;padding: 0;position: absolute;width: 1px;}#sk-container-id-1 div.sk-estimator {font-family: monospace;background-color: #f0f8ff;border: 1px dotted black;border-radius: 0.25em;box-sizing: border-box;margin-bottom: 0.5em;}#sk-container-id-1 div.sk-estimator:hover {background-color: #d4ebff;}#sk-container-id-1 div.sk-parallel-item::after {content: \"\";width: 100%;border-bottom: 1px solid gray;flex-grow: 1;}#sk-container-id-1 div.sk-label:hover label.sk-toggleable__label {background-color: #d4ebff;}#sk-container-id-1 div.sk-serial::before {content: \"\";position: absolute;border-left: 1px solid gray;box-sizing: border-box;top: 0;bottom: 0;left: 50%;z-index: 0;}#sk-container-id-1 div.sk-serial {display: flex;flex-direction: column;align-items: center;background-color: white;padding-right: 0.2em;padding-left: 0.2em;position: relative;}#sk-container-id-1 div.sk-item {position: relative;z-index: 1;}#sk-container-id-1 div.sk-parallel {display: flex;align-items: stretch;justify-content: center;background-color: white;position: relative;}#sk-container-id-1 div.sk-item::before, #sk-container-id-1 div.sk-parallel-item::before {content: \"\";position: absolute;border-left: 1px solid gray;box-sizing: border-box;top: 0;bottom: 0;left: 50%;z-index: -1;}#sk-container-id-1 div.sk-parallel-item {display: flex;flex-direction: column;z-index: 1;position: relative;background-color: white;}#sk-container-id-1 div.sk-parallel-item:first-child::after {align-self: flex-end;width: 50%;}#sk-container-id-1 div.sk-parallel-item:last-child::after {align-self: flex-start;width: 50%;}#sk-container-id-1 div.sk-parallel-item:only-child::after {width: 0;}#sk-container-id-1 div.sk-dashed-wrapped {border: 1px dashed gray;margin: 0 0.4em 0.5em 0.4em;box-sizing: border-box;padding-bottom: 0.4em;background-color: white;}#sk-container-id-1 div.sk-label label {font-family: monospace;font-weight: bold;display: inline-block;line-height: 1.2em;}#sk-container-id-1 div.sk-label-container {text-align: center;}#sk-container-id-1 div.sk-container {/* jupyter's `normalize.less` sets `[hidden] { display: none; }` but bootstrap.min.css set `[hidden] { display: none !important; }` so we also need the `!important` here to be able to override the default hidden behavior on the sphinx rendered scikit-learn.org. See: https://github.com/scikit-learn/scikit-learn/issues/21755 */display: inline-block !important;position: relative;}#sk-container-id-1 div.sk-text-repr-fallback {display: none;}</style><div id=\"sk-container-id-1\" class=\"sk-top-container\"><div class=\"sk-text-repr-fallback\"><pre>Pipeline(steps=[(&#x27;preprocessor&#x27;,\n",
       "                 ColumnTransformer(transformers=[(&#x27;num&#x27;, MinMaxScaler(),\n",
       "                                                  [&#x27;victim_age&#x27;, &#x27;latitude&#x27;,\n",
       "                                                   &#x27;longitude&#x27;, &#x27;day_occurred&#x27;,\n",
       "                                                   &#x27;month_occurred&#x27;,\n",
       "                                                   &#x27;year_occurred&#x27;])])),\n",
       "                (&#x27;classifier&#x27;, LogisticRegression())])</pre><b>In a Jupyter environment, please rerun this cell to show the HTML representation or trust the notebook. <br />On GitHub, the HTML representation is unable to render, please try loading this page with nbviewer.org.</b></div><div class=\"sk-container\" hidden><div class=\"sk-item sk-dashed-wrapped\"><div class=\"sk-label-container\"><div class=\"sk-label sk-toggleable\"><input class=\"sk-toggleable__control sk-hidden--visually\" id=\"sk-estimator-id-1\" type=\"checkbox\" ><label for=\"sk-estimator-id-1\" class=\"sk-toggleable__label sk-toggleable__label-arrow\">Pipeline</label><div class=\"sk-toggleable__content\"><pre>Pipeline(steps=[(&#x27;preprocessor&#x27;,\n",
       "                 ColumnTransformer(transformers=[(&#x27;num&#x27;, MinMaxScaler(),\n",
       "                                                  [&#x27;victim_age&#x27;, &#x27;latitude&#x27;,\n",
       "                                                   &#x27;longitude&#x27;, &#x27;day_occurred&#x27;,\n",
       "                                                   &#x27;month_occurred&#x27;,\n",
       "                                                   &#x27;year_occurred&#x27;])])),\n",
       "                (&#x27;classifier&#x27;, LogisticRegression())])</pre></div></div></div><div class=\"sk-serial\"><div class=\"sk-item sk-dashed-wrapped\"><div class=\"sk-label-container\"><div class=\"sk-label sk-toggleable\"><input class=\"sk-toggleable__control sk-hidden--visually\" id=\"sk-estimator-id-2\" type=\"checkbox\" ><label for=\"sk-estimator-id-2\" class=\"sk-toggleable__label sk-toggleable__label-arrow\">preprocessor: ColumnTransformer</label><div class=\"sk-toggleable__content\"><pre>ColumnTransformer(transformers=[(&#x27;num&#x27;, MinMaxScaler(),\n",
       "                                 [&#x27;victim_age&#x27;, &#x27;latitude&#x27;, &#x27;longitude&#x27;,\n",
       "                                  &#x27;day_occurred&#x27;, &#x27;month_occurred&#x27;,\n",
       "                                  &#x27;year_occurred&#x27;])])</pre></div></div></div><div class=\"sk-parallel\"><div class=\"sk-parallel-item\"><div class=\"sk-item\"><div class=\"sk-label-container\"><div class=\"sk-label sk-toggleable\"><input class=\"sk-toggleable__control sk-hidden--visually\" id=\"sk-estimator-id-3\" type=\"checkbox\" ><label for=\"sk-estimator-id-3\" class=\"sk-toggleable__label sk-toggleable__label-arrow\">num</label><div class=\"sk-toggleable__content\"><pre>[&#x27;victim_age&#x27;, &#x27;latitude&#x27;, &#x27;longitude&#x27;, &#x27;day_occurred&#x27;, &#x27;month_occurred&#x27;, &#x27;year_occurred&#x27;]</pre></div></div></div><div class=\"sk-serial\"><div class=\"sk-item\"><div class=\"sk-estimator sk-toggleable\"><input class=\"sk-toggleable__control sk-hidden--visually\" id=\"sk-estimator-id-4\" type=\"checkbox\" ><label for=\"sk-estimator-id-4\" class=\"sk-toggleable__label sk-toggleable__label-arrow\">MinMaxScaler</label><div class=\"sk-toggleable__content\"><pre>MinMaxScaler()</pre></div></div></div></div></div></div></div></div><div class=\"sk-item\"><div class=\"sk-estimator sk-toggleable\"><input class=\"sk-toggleable__control sk-hidden--visually\" id=\"sk-estimator-id-5\" type=\"checkbox\" ><label for=\"sk-estimator-id-5\" class=\"sk-toggleable__label sk-toggleable__label-arrow\">LogisticRegression</label><div class=\"sk-toggleable__content\"><pre>LogisticRegression()</pre></div></div></div></div></div></div></div>"
      ],
      "text/plain": [
       "Pipeline(steps=[('preprocessor',\n",
       "                 ColumnTransformer(transformers=[('num', MinMaxScaler(),\n",
       "                                                  ['victim_age', 'latitude',\n",
       "                                                   'longitude', 'day_occurred',\n",
       "                                                   'month_occurred',\n",
       "                                                   'year_occurred'])])),\n",
       "                ('classifier', LogisticRegression())])"
      ]
     },
     "execution_count": 39,
     "metadata": {},
     "output_type": "execute_result"
    }
   ],
   "source": [
    "lr_model.fit(X_train, y_train)"
   ]
  },
  {
   "cell_type": "code",
   "execution_count": 41,
   "metadata": {},
   "outputs": [
    {
     "name": "stdout",
     "output_type": "stream",
     "text": [
      "Accuracy: 0.1892666627586611\n"
     ]
    }
   ],
   "source": [
    "accuracy = lr_model.score(X_test, y_test)\n",
    "print(\"Accuracy:\", accuracy)"
   ]
  },
  {
   "cell_type": "code",
   "execution_count": 42,
   "metadata": {},
   "outputs": [],
   "source": [
    "y_pred = lr_model.predict(X_test)"
   ]
  },
  {
   "cell_type": "code",
   "execution_count": 44,
   "metadata": {},
   "outputs": [
    {
     "name": "stdout",
     "output_type": "stream",
     "text": [
      "Confusion Matrix:\n",
      "[[0 0 0 ... 0 0 0]\n",
      " [0 0 0 ... 0 0 0]\n",
      " [0 0 0 ... 0 0 0]\n",
      " ...\n",
      " [0 0 0 ... 0 0 0]\n",
      " [0 0 0 ... 0 0 0]\n",
      " [0 0 0 ... 0 0 0]]\n"
     ]
    }
   ],
   "source": [
    "conf_matrix = confusion_matrix(y_test, y_pred)\n",
    "print(\"Confusion Matrix:\")\n",
    "print(conf_matrix)"
   ]
  },
  {
   "cell_type": "code",
   "execution_count": 45,
   "metadata": {},
   "outputs": [
    {
     "name": "stderr",
     "output_type": "stream",
     "text": [
      "/home/tomw/.pyenv/versions/3.10.6/envs/safe_live/lib/python3.10/site-packages/sklearn/metrics/_classification.py:1469: UndefinedMetricWarning: Precision and F-score are ill-defined and being set to 0.0 in labels with no predicted samples. Use `zero_division` parameter to control this behavior.\n",
      "  _warn_prf(average, modifier, msg_start, len(result))\n",
      "/home/tomw/.pyenv/versions/3.10.6/envs/safe_live/lib/python3.10/site-packages/sklearn/metrics/_classification.py:1469: UndefinedMetricWarning: Precision and F-score are ill-defined and being set to 0.0 in labels with no predicted samples. Use `zero_division` parameter to control this behavior.\n",
      "  _warn_prf(average, modifier, msg_start, len(result))\n"
     ]
    },
    {
     "name": "stdout",
     "output_type": "stream",
     "text": [
      "Classification Report:\n",
      "                                                          precision    recall  f1-score   support\n",
      "\n",
      "                                                   ARSON       0.00      0.00      0.00       473\n",
      "            ASSAULT WITH DEADLY WEAPON ON POLICE OFFICER       0.00      0.00      0.00       209\n",
      "          ASSAULT WITH DEADLY WEAPON, AGGRAVATED ASSAULT       0.00      0.00      0.00      9717\n",
      "                                       ATTEMPTED ROBBERY       0.00      0.00      0.00       883\n",
      "                                BATTERY - SIMPLE ASSAULT       0.11      0.56      0.18     13639\n",
      "                                BATTERY ON A FIREFIGHTER       0.00      0.00      0.00        54\n",
      "                                 BATTERY POLICE (SIMPLE)       0.00      0.00      0.00       457\n",
      "                             BATTERY WITH SEXUAL CONTACT       0.00      0.00      0.00       727\n",
      "BEASTIALITY, CRIME AGAINST NATURE SEXUAL ASSLT WITH ANIM       0.00      0.00      0.00         3\n",
      "                                 BIKE - ATTEMPTED STOLEN       0.00      0.00      0.00         1\n",
      "                                           BIKE - STOLEN       0.00      0.00      0.00      1428\n",
      "                          BLOCKING DOOR INDUCTION CENTER       0.00      0.00      0.00         1\n",
      "                                           BOAT - STOLEN       0.00      0.00      0.00        21\n",
      "                                              BOMB SCARE       0.00      0.00      0.00        77\n",
      "                                         BRANDISH WEAPON       0.00      0.00      0.00      2673\n",
      "                                          BUNCO, ATTEMPT       0.00      0.00      0.00        52\n",
      "                                      BUNCO, GRAND THEFT       0.00      0.00      0.00      1108\n",
      "                                      BUNCO, PETTY THEFT       0.00      0.00      0.00       402\n",
      "                                                BURGLARY       0.03      0.01      0.01     10504\n",
      "                                   BURGLARY FROM VEHICLE       0.00      0.00      0.00     10272\n",
      "                        BURGLARY FROM VEHICLE, ATTEMPTED       0.00      0.00      0.00       122\n",
      "                                     BURGLARY, ATTEMPTED       0.00      0.00      0.00       696\n",
      "                                       CHILD ABANDONMENT       0.00      0.00      0.00         6\n",
      "             CHILD ABUSE (PHYSICAL) - AGGRAVATED ASSAULT       0.00      0.00      0.00       102\n",
      "                 CHILD ABUSE (PHYSICAL) - SIMPLE ASSAULT       0.00      0.00      0.00       672\n",
      "                          CHILD ANNOYING (17YRS & UNDER)       0.00      0.00      0.00       194\n",
      "                          CHILD NEGLECT (SEE 300 W.I.C.)       0.00      0.00      0.00       221\n",
      "                                       CHILD PORNOGRAPHY       0.00      0.00      0.00        53\n",
      "                                          CHILD STEALING       0.00      0.00      0.00        82\n",
      "                                              CONSPIRACY       0.00      0.00      0.00         4\n",
      "                                       CONTEMPT OF COURT       0.00      0.00      0.00       511\n",
      "                                            CONTRIBUTING       0.00      0.00      0.00         7\n",
      "                                             COUNTERFEIT       0.00      0.00      0.00        20\n",
      "                   CREDIT CARDS, FRAUD USE ($950 & UNDER       0.00      0.00      0.00        15\n",
      "                CREDIT CARDS, FRAUD USE ($950.01 & OVER)       0.00      0.00      0.00        28\n",
      "                                       CRIMINAL HOMICIDE       0.00      0.00      0.00       308\n",
      "                  CRIMINAL THREATS - NO WEAPON DISPLAYED       0.00      0.00      0.00      3601\n",
      "CRM AGNST CHLD (13 OR UNDER) (14-15 & SUSP 10 YRS OLDER)       0.00      0.00      0.00       337\n",
      "                                      CRUELTY TO ANIMALS       0.00      0.00      0.00        48\n",
      "    DEFRAUDING INNKEEPER/THEFT OF SERVICES, $950 & UNDER       0.00      0.00      0.00        54\n",
      "    DEFRAUDING INNKEEPER/THEFT OF SERVICES, OVER $950.01       0.00      0.00      0.00        10\n",
      "                          DISCHARGE FIREARMS/SHOTS FIRED       0.00      0.00      0.00       492\n",
      "                        DISHONEST EMPLOYEE - GRAND THEFT       0.00      0.00      0.00         8\n",
      "                        DISHONEST EMPLOYEE - PETTY THEFT       0.00      0.00      0.00         4\n",
      "                      DISHONEST EMPLOYEE ATTEMPTED THEFT       0.00      0.00      0.00         1\n",
      "                                          DISRUPT SCHOOL       0.00      0.00      0.00         2\n",
      "                                    DISTURBING THE PEACE       0.00      0.00      0.00       308\n",
      "                        DOCUMENT FORGERY / STOLEN FELONY       0.00      0.00      0.00       569\n",
      "                       DOCUMENT WORTHLESS ($200 & UNDER)       0.00      0.00      0.00         3\n",
      "                     DOCUMENT WORTHLESS ($200.01 & OVER)       0.00      0.00      0.00        12\n",
      "                    DRIVING WITHOUT OWNER CONSENT (DWOC)       0.00      0.00      0.00        32\n",
      "                                       DRUGS, TO A MINOR       0.00      0.00      0.00         1\n",
      "                                              DRUNK ROLL       0.00      0.00      0.00         9\n",
      "              EMBEZZLEMENT, GRAND THEFT ($950.01 & OVER)       0.00      0.00      0.00       691\n",
      "                EMBEZZLEMENT, PETTY THEFT ($950 & UNDER)       0.00      0.00      0.00        19\n",
      "                                               EXTORTION       0.00      0.00      0.00       390\n",
      "                                     FAILURE TO DISPERSE       0.00      0.00      0.00         1\n",
      "                                        FAILURE TO YIELD       0.00      0.00      0.00       277\n",
      "                                      FALSE IMPRISONMENT       0.00      0.00      0.00        64\n",
      "                                     FALSE POLICE REPORT       0.00      0.00      0.00        33\n",
      "      FIREARMS EMERGENCY PROTECTIVE ORDER (FIREARMS EPO)       0.00      0.00      0.00         2\n",
      "                FIREARMS RESTRAINING ORDER (FIREARMS RO)       0.00      0.00      0.00         3\n",
      "                           GRAND THEFT / INSURANCE FRAUD       0.00      0.00      0.00         1\n",
      "                 HUMAN TRAFFICKING - COMMERCIAL SEX ACTS       0.00      0.00      0.00        73\n",
      "               HUMAN TRAFFICKING - INVOLUNTARY SERVITUDE       0.00      0.00      0.00        18\n",
      "                                         ILLEGAL DUMPING       0.00      0.00      0.00        19\n",
      "            INCEST (SEXUAL ACTS BETWEEN BLOOD RELATIVES)       0.00      0.00      0.00         3\n",
      "                                         INCITING A RIOT       0.00      0.00      0.00         1\n",
      "                                       INDECENT EXPOSURE       0.00      0.00      0.00       203\n",
      "                   INTIMATE PARTNER - AGGRAVATED ASSAULT       0.00      0.00      0.00      2416\n",
      "                       INTIMATE PARTNER - SIMPLE ASSAULT       0.00      0.00      0.00      8567\n",
      "                                              KIDNAPPING       0.00      0.00      0.00       152\n",
      "                              KIDNAPPING - GRAND ATTEMPT       0.00      0.00      0.00        42\n",
      "                 LETTERS, LEWD  -  TELEPHONE CALLS, LEWD       0.00      0.00      0.00      1452\n",
      "                                            LEWD CONDUCT       0.00      0.00      0.00       127\n",
      "                         LEWD/LASCIVIOUS ACTS WITH CHILD       0.00      0.00      0.00        12\n",
      "                                                LYNCHING       0.00      0.00      0.00         5\n",
      "                                    LYNCHING - ATTEMPTED       0.00      0.00      0.00         3\n",
      "                                 MANSLAUGHTER, NEGLIGENT       0.00      0.00      0.00         1\n",
      "                                         ORAL COPULATION       0.00      0.00      0.00       120\n",
      "                                           OTHER ASSAULT       0.00      0.00      0.00       755\n",
      "                               OTHER MISCELLANEOUS CRIME       0.00      0.00      0.00      1268\n",
      "                                               PANDERING       0.00      0.00      0.00        33\n",
      "                                             PEEPING TOM       0.00      0.00      0.00        64\n",
      "                               PETTY THEFT - AUTO REPAIR       0.00      0.00      0.00         2\n",
      "                                              PICKPOCKET       0.00      0.00      0.00       480\n",
      "                                     PICKPOCKET, ATTEMPT       0.00      0.00      0.00         2\n",
      "                                                 PIMPING       0.00      0.00      0.00        30\n",
      "                                                 PROWLER       0.00      0.00      0.00        30\n",
      "                                         PURSE SNATCHING       0.00      0.00      0.00        18\n",
      "                               PURSE SNATCHING - ATTEMPT       0.00      0.00      0.00         1\n",
      "                                         RAPE, ATTEMPTED       0.00      0.00      0.00        60\n",
      "                                          RAPE, FORCIBLE       0.00      0.00      0.00       652\n",
      "                                        RECKLESS DRIVING       0.00      0.00      0.00        48\n",
      "REPLICA FIREARMS(SALE,DISPLAY,MANUFACTURE OR DISTRIBUTE)       0.00      0.00      0.00         2\n",
      "                                        RESISTING ARREST       0.00      0.00      0.00       166\n",
      "                                                 ROBBERY       0.00      0.00      0.00      5795\n",
      "               SEX OFFENDER REGISTRANT OUT OF COMPLIANCE       0.00      0.00      0.00       165\n",
      "SEX,UNLAWFUL(INC MUTUAL CONSENT, PENETRATION W/ FRGN OBJ       0.00      0.00      0.00       171\n",
      "                     SEXUAL PENETRATION W/FOREIGN OBJECT       0.00      0.00      0.00       247\n",
      "                                   SHOPLIFTING - ATTEMPT       0.00      0.00      0.00        15\n",
      "                SHOPLIFTING - PETTY THEFT ($950 & UNDER)       0.00      0.00      0.00      4174\n",
      "                SHOPLIFTING-GRAND THEFT ($950.01 & OVER)       0.00      0.00      0.00       881\n",
      "                       SHOTS FIRED AT INHABITED DWELLING       0.00      0.00      0.00       287\n",
      "        SHOTS FIRED AT MOVING VEHICLE, TRAIN OR AIRCRAFT       0.00      0.00      0.00        74\n",
      " SODOMY/SEXUAL CONTACT B/W PENIS OF ONE PERS TO ANUS OTH       0.00      0.00      0.00        97\n",
      "                                                STALKING       0.00      0.00      0.00       119\n",
      "                             TELEPHONE PROPERTY - DAMAGE       0.00      0.00      0.00         2\n",
      "                      THEFT FROM MOTOR VEHICLE - ATTEMPT       0.00      0.00      0.00       156\n",
      "     THEFT FROM MOTOR VEHICLE - GRAND ($950.01 AND OVER)       0.00      0.00      0.00      6135\n",
      "         THEFT FROM MOTOR VEHICLE - PETTY ($950 & UNDER)       0.00      0.00      0.00      6583\n",
      "                             THEFT FROM PERSON - ATTEMPT       0.00      0.00      0.00        22\n",
      "                                       THEFT OF IDENTITY       0.15      0.53      0.23     10809\n",
      "                                   THEFT PLAIN - ATTEMPT       0.00      0.00      0.00        98\n",
      "                      THEFT PLAIN - PETTY ($950 & UNDER)       0.00      0.00      0.00      8623\n",
      "                           THEFT, COIN MACHINE - ATTEMPT       0.00      0.00      0.00         1\n",
      "            THEFT, COIN MACHINE - GRAND ($950.01 & OVER)       0.00      0.00      0.00         1\n",
      "              THEFT, COIN MACHINE - PETTY ($950 & UNDER)       0.00      0.00      0.00         9\n",
      "                                           THEFT, PERSON       0.00      0.00      0.00       784\n",
      "THEFT-GRAND ($950.01 & OVER)EXCPT,GUNS,FOWL,LIVESTK,PROD       0.00      0.00      0.00      5505\n",
      "                         THREATENING PHONE CALLS/LETTERS       0.00      0.00      0.00        84\n",
      "                       THROWING OBJECT AT MOVING VEHICLE       0.00      0.00      0.00       130\n",
      "                         TILL TAP - PETTY ($950 & UNDER)       0.00      0.00      0.00         3\n",
      "                                             TRESPASSING       0.17      0.01      0.02      2460\n",
      "                            UNAUTHORIZED COMPUTER ACCESS       0.00      0.00      0.00       105\n",
      " VANDALISM - FELONY ($400 & OVER, ALL CHURCH VANDALISMS)       0.05      0.07      0.06     10369\n",
      "                VANDALISM - MISDEAMEANOR ($399 OR UNDER)       0.00      0.00      0.00      4402\n",
      "                                VEHICLE - ATTEMPT STOLEN       0.00      0.00      0.00       617\n",
      "                                        VEHICLE - STOLEN       0.43      1.00      0.60     18233\n",
      "VEHICLE, STOLEN - OTHER (MOTORIZED SCOOTERS, BIKES, ETC)       0.00      0.00      0.00       360\n",
      "                                VIOLATION OF COURT ORDER       0.00      0.00      0.00      1134\n",
      "                          VIOLATION OF RESTRAINING ORDER       0.00      0.00      0.00      2209\n",
      "                VIOLATION OF TEMPORARY RESTRAINING ORDER       0.00      0.00      0.00       184\n",
      "                              WEAPONS POSSESSION/BOMBING       0.00      0.00      0.00         8\n",
      "\n",
      "                                                accuracy                           0.19    170590\n",
      "                                               macro avg       0.01      0.02      0.01    170590\n",
      "                                            weighted avg       0.07      0.19      0.10    170590\n",
      "\n"
     ]
    },
    {
     "name": "stderr",
     "output_type": "stream",
     "text": [
      "/home/tomw/.pyenv/versions/3.10.6/envs/safe_live/lib/python3.10/site-packages/sklearn/metrics/_classification.py:1469: UndefinedMetricWarning: Precision and F-score are ill-defined and being set to 0.0 in labels with no predicted samples. Use `zero_division` parameter to control this behavior.\n",
      "  _warn_prf(average, modifier, msg_start, len(result))\n"
     ]
    }
   ],
   "source": [
    "class_report = classification_report(y_test, y_pred)\n",
    "print(\"Classification Report:\")\n",
    "print(class_report)"
   ]
  },
  {
   "cell_type": "code",
   "execution_count": null,
   "metadata": {},
   "outputs": [],
   "source": [
    "columns_keep = [\n",
    "#'division_number',\n",
    "#'date_reported',\n",
    "'date_occurred',\n",
    "#'area',\n",
    "'area_name',\n",
    "#'reporting_district',\n",
    "#'part',\n",
    "#'crime_code',\n",
    "'crime_description',\n",
    "#'modus_operandi',\n",
    "'victim_age',\n",
    "'victim_sex',\n",
    "'victim_descent',\n",
    "#'premise_code',\n",
    "'premise_description',\n",
    "#'weapon_code',\n",
    "'weapon_description',\n",
    "#'status',\n",
    "#'status_description',\n",
    "#'crime_code_1',\n",
    "#'crime_code_2',\n",
    "#'crime_code_3',\n",
    "#'crime_code_4',\n",
    "'location',\n",
    "#'cross_street',\n",
    "'latitude',\n",
    "'longitude',\n",
    "]"
   ]
  }
 ],
 "metadata": {
  "kernelspec": {
   "display_name": "safe_live",
   "language": "python",
   "name": "python3"
  },
  "language_info": {
   "codemirror_mode": {
    "name": "ipython",
    "version": 3
   },
   "file_extension": ".py",
   "mimetype": "text/x-python",
   "name": "python",
   "nbconvert_exporter": "python",
   "pygments_lexer": "ipython3",
   "version": "3.10.6"
  }
 },
 "nbformat": 4,
 "nbformat_minor": 2
}

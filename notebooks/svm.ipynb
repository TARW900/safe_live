{
 "cells": [
  {
   "cell_type": "markdown",
   "metadata": {},
   "source": [
    "# Libraries and Data"
   ]
  },
  {
   "cell_type": "code",
   "execution_count": 10,
   "metadata": {},
   "outputs": [
    {
     "ename": "ModuleNotFoundError",
     "evalue": "No module named 'library'",
     "output_type": "error",
     "traceback": [
      "\u001b[0;31m---------------------------------------------------------------------------\u001b[0m",
      "\u001b[0;31mModuleNotFoundError\u001b[0m                       Traceback (most recent call last)",
      "Cell \u001b[0;32mIn[10], line 5\u001b[0m\n\u001b[1;32m      2\u001b[0m \u001b[38;5;28;01mimport\u001b[39;00m \u001b[38;5;21;01mos\u001b[39;00m\n\u001b[1;32m      4\u001b[0m \u001b[38;5;66;03m# Data cleaning\u001b[39;00m\n\u001b[0;32m----> 5\u001b[0m \u001b[38;5;28;01mfrom\u001b[39;00m \u001b[38;5;21;01mlibrary\u001b[39;00m \u001b[38;5;28;01mimport\u001b[39;00m la_functions \u001b[38;5;28;01mas\u001b[39;00m la\n\u001b[1;32m      7\u001b[0m \u001b[38;5;66;03m# Visualisation\u001b[39;00m\n\u001b[1;32m      8\u001b[0m \u001b[38;5;28;01mimport\u001b[39;00m \u001b[38;5;21;01mmatplotlib\u001b[39;00m\u001b[38;5;21;01m.\u001b[39;00m\u001b[38;5;21;01mpyplot\u001b[39;00m \u001b[38;5;28;01mas\u001b[39;00m \u001b[38;5;21;01mplt\u001b[39;00m\n",
      "\u001b[0;31mModuleNotFoundError\u001b[0m: No module named 'library'"
     ]
    }
   ],
   "source": [
    "import pandas as pd\n",
    "import os\n",
    "\n",
    "# Data cleaning\n",
    "from library import la_functions as la\n",
    "\n",
    "# Visualisation\n",
    "import matplotlib.pyplot as plt\n",
    "import seaborn as sns\n",
    "\n",
    "# Modelling\n",
    "from sklearn.model_selection import cross_validate\n",
    "from sklearn.linear_model import LogisticRegression\n",
    "from sklearn.model_selection import train_test_split\n",
    "from sklearn.preprocessing import MinMaxScaler, FunctionTransformer\n",
    "from sklearn.compose import ColumnTransformer\n",
    "from sklearn.pipeline import Pipeline\n",
    "from sklearn.metrics import confusion_matrix, classification_report\n",
    "\n",
    "# Export model\n",
    "import pickle"
   ]
  },
  {
   "cell_type": "code",
   "execution_count": 4,
   "metadata": {},
   "outputs": [],
   "source": [
    "# fetch all the data from the raw_data folder\n",
    "df = pd.read_csv('../raw_data/data.csv')"
   ]
  },
  {
   "cell_type": "code",
   "execution_count": 3,
   "metadata": {},
   "outputs": [],
   "source": [
    "columns_keep = [\n",
    "#'division_number',\n",
    "#'date_reported',\n",
    "'date_occurred',\n",
    "#'area',\n",
    "'area_name',\n",
    "#'reporting_district',\n",
    "#'part',\n",
    "#'crime_code',\n",
    "'crime_description',\n",
    "#'modus_operandi',\n",
    "'victim_age',\n",
    "'victim_sex',\n",
    "'victim_descent',\n",
    "#'premise_code',\n",
    "'premise_description',\n",
    "#'weapon_code',\n",
    "'weapon_description',\n",
    "#'status',\n",
    "#'status_description',\n",
    "#'crime_code_1',\n",
    "#'crime_code_2',\n",
    "#'crime_code_3',\n",
    "#'crime_code_4',\n",
    "'location',\n",
    "#'cross_street',\n",
    "'latitude',\n",
    "'longitude',\n",
    "]"
   ]
  },
  {
   "cell_type": "code",
   "execution_count": 4,
   "metadata": {},
   "outputs": [
    {
     "data": {
      "text/html": [
       "<div>\n",
       "<style scoped>\n",
       "    .dataframe tbody tr th:only-of-type {\n",
       "        vertical-align: middle;\n",
       "    }\n",
       "\n",
       "    .dataframe tbody tr th {\n",
       "        vertical-align: top;\n",
       "    }\n",
       "\n",
       "    .dataframe thead th {\n",
       "        text-align: right;\n",
       "    }\n",
       "</style>\n",
       "<table border=\"1\" class=\"dataframe\">\n",
       "  <thead>\n",
       "    <tr style=\"text-align: right;\">\n",
       "      <th></th>\n",
       "      <th>date_occurred</th>\n",
       "      <th>area_name</th>\n",
       "      <th>crime_description</th>\n",
       "      <th>victim_age</th>\n",
       "      <th>victim_sex</th>\n",
       "      <th>victim_descent</th>\n",
       "      <th>premise_description</th>\n",
       "      <th>weapon_description</th>\n",
       "      <th>location</th>\n",
       "      <th>latitude</th>\n",
       "      <th>longitude</th>\n",
       "    </tr>\n",
       "  </thead>\n",
       "  <tbody>\n",
       "    <tr>\n",
       "      <th>0</th>\n",
       "      <td>2020-01-08 22:30:00</td>\n",
       "      <td>Southwest</td>\n",
       "      <td>BATTERY - SIMPLE ASSAULT</td>\n",
       "      <td>36</td>\n",
       "      <td>F</td>\n",
       "      <td>B</td>\n",
       "      <td>SINGLE FAMILY DWELLING</td>\n",
       "      <td>STRONG-ARM (HANDS, FIST, FEET OR BODILY FORCE)</td>\n",
       "      <td>1100 W  39TH                         PL</td>\n",
       "      <td>34.0141</td>\n",
       "      <td>-118.2978</td>\n",
       "    </tr>\n",
       "    <tr>\n",
       "      <th>1</th>\n",
       "      <td>2020-01-01 03:30:00</td>\n",
       "      <td>Central</td>\n",
       "      <td>BATTERY - SIMPLE ASSAULT</td>\n",
       "      <td>25</td>\n",
       "      <td>M</td>\n",
       "      <td>H</td>\n",
       "      <td>SIDEWALK</td>\n",
       "      <td>UNKNOWN WEAPON/OTHER WEAPON</td>\n",
       "      <td>700 S  HILL                         ST</td>\n",
       "      <td>34.0459</td>\n",
       "      <td>-118.2545</td>\n",
       "    </tr>\n",
       "    <tr>\n",
       "      <th>2</th>\n",
       "      <td>2020-02-13 12:00:00</td>\n",
       "      <td>Central</td>\n",
       "      <td>SEX OFFENDER REGISTRANT OUT OF COMPLIANCE</td>\n",
       "      <td>0</td>\n",
       "      <td>X</td>\n",
       "      <td>X</td>\n",
       "      <td>POLICE FACILITY</td>\n",
       "      <td>NaN</td>\n",
       "      <td>200 E  6TH                          ST</td>\n",
       "      <td>34.0448</td>\n",
       "      <td>-118.2474</td>\n",
       "    </tr>\n",
       "  </tbody>\n",
       "</table>\n",
       "</div>"
      ],
      "text/plain": [
       "         date_occurred  area_name                          crime_description  \\\n",
       "0  2020-01-08 22:30:00  Southwest                   BATTERY - SIMPLE ASSAULT   \n",
       "1  2020-01-01 03:30:00    Central                   BATTERY - SIMPLE ASSAULT   \n",
       "2  2020-02-13 12:00:00    Central  SEX OFFENDER REGISTRANT OUT OF COMPLIANCE   \n",
       "\n",
       "   victim_age victim_sex victim_descent     premise_description  \\\n",
       "0          36          F              B  SINGLE FAMILY DWELLING   \n",
       "1          25          M              H                SIDEWALK   \n",
       "2           0          X              X         POLICE FACILITY   \n",
       "\n",
       "                               weapon_description  \\\n",
       "0  STRONG-ARM (HANDS, FIST, FEET OR BODILY FORCE)   \n",
       "1                     UNKNOWN WEAPON/OTHER WEAPON   \n",
       "2                                             NaN   \n",
       "\n",
       "                                  location  latitude  longitude  \n",
       "0  1100 W  39TH                         PL   34.0141  -118.2978  \n",
       "1   700 S  HILL                         ST   34.0459  -118.2545  \n",
       "2   200 E  6TH                          ST   34.0448  -118.2474  "
      ]
     },
     "execution_count": 4,
     "metadata": {},
     "output_type": "execute_result"
    }
   ],
   "source": [
    "df = df[columns_keep]\n",
    "df.head(3)"
   ]
  },
  {
   "cell_type": "markdown",
   "metadata": {},
   "source": [
    "# Exploratory Data Analysis"
   ]
  },
  {
   "cell_type": "markdown",
   "metadata": {},
   "source": [
    "## Basics"
   ]
  },
  {
   "cell_type": "code",
   "execution_count": 26,
   "metadata": {},
   "outputs": [
    {
     "data": {
      "text/plain": [
       "852950"
      ]
     },
     "execution_count": 26,
     "metadata": {},
     "output_type": "execute_result"
    }
   ],
   "source": [
    "len(df)"
   ]
  },
  {
   "cell_type": "code",
   "execution_count": 27,
   "metadata": {},
   "outputs": [
    {
     "data": {
      "text/plain": [
       "3963"
      ]
     },
     "execution_count": 27,
     "metadata": {},
     "output_type": "execute_result"
    }
   ],
   "source": [
    "# Number of duplicated values\n",
    "df.duplicated().sum()"
   ]
  },
  {
   "cell_type": "code",
   "execution_count": 49,
   "metadata": {},
   "outputs": [
    {
     "data": {
      "text/html": [
       "<div>\n",
       "<style scoped>\n",
       "    .dataframe tbody tr th:only-of-type {\n",
       "        vertical-align: middle;\n",
       "    }\n",
       "\n",
       "    .dataframe tbody tr th {\n",
       "        vertical-align: top;\n",
       "    }\n",
       "\n",
       "    .dataframe thead th {\n",
       "        text-align: right;\n",
       "    }\n",
       "</style>\n",
       "<table border=\"1\" class=\"dataframe\">\n",
       "  <thead>\n",
       "    <tr style=\"text-align: right;\">\n",
       "      <th></th>\n",
       "      <th>victim_age</th>\n",
       "      <th>latitude</th>\n",
       "      <th>longitude</th>\n",
       "      <th>YEAR OCC</th>\n",
       "      <th>MONTH OCC</th>\n",
       "      <th>DAY OCC</th>\n",
       "    </tr>\n",
       "  </thead>\n",
       "  <tbody>\n",
       "    <tr>\n",
       "      <th>count</th>\n",
       "      <td>852950.000000</td>\n",
       "      <td>852950.000000</td>\n",
       "      <td>852950.000000</td>\n",
       "      <td>852950.000000</td>\n",
       "      <td>852950.000000</td>\n",
       "      <td>852950.000000</td>\n",
       "    </tr>\n",
       "    <tr>\n",
       "      <th>mean</th>\n",
       "      <td>29.742191</td>\n",
       "      <td>33.983232</td>\n",
       "      <td>-118.040106</td>\n",
       "      <td>2021.532406</td>\n",
       "      <td>6.419488</td>\n",
       "      <td>15.334084</td>\n",
       "    </tr>\n",
       "    <tr>\n",
       "      <th>std</th>\n",
       "      <td>21.799470</td>\n",
       "      <td>1.756263</td>\n",
       "      <td>6.089068</td>\n",
       "      <td>1.099147</td>\n",
       "      <td>3.380271</td>\n",
       "      <td>8.964670</td>\n",
       "    </tr>\n",
       "    <tr>\n",
       "      <th>min</th>\n",
       "      <td>-3.000000</td>\n",
       "      <td>0.000000</td>\n",
       "      <td>-118.667600</td>\n",
       "      <td>2020.000000</td>\n",
       "      <td>1.000000</td>\n",
       "      <td>1.000000</td>\n",
       "    </tr>\n",
       "    <tr>\n",
       "      <th>25%</th>\n",
       "      <td>5.000000</td>\n",
       "      <td>34.014100</td>\n",
       "      <td>-118.429700</td>\n",
       "      <td>2021.000000</td>\n",
       "      <td>4.000000</td>\n",
       "      <td>7.000000</td>\n",
       "    </tr>\n",
       "    <tr>\n",
       "      <th>50%</th>\n",
       "      <td>31.000000</td>\n",
       "      <td>34.058500</td>\n",
       "      <td>-118.321500</td>\n",
       "      <td>2022.000000</td>\n",
       "      <td>6.000000</td>\n",
       "      <td>15.000000</td>\n",
       "    </tr>\n",
       "    <tr>\n",
       "      <th>75%</th>\n",
       "      <td>45.000000</td>\n",
       "      <td>34.163200</td>\n",
       "      <td>-118.273900</td>\n",
       "      <td>2022.000000</td>\n",
       "      <td>9.000000</td>\n",
       "      <td>23.000000</td>\n",
       "    </tr>\n",
       "    <tr>\n",
       "      <th>max</th>\n",
       "      <td>120.000000</td>\n",
       "      <td>34.334300</td>\n",
       "      <td>0.000000</td>\n",
       "      <td>2023.000000</td>\n",
       "      <td>12.000000</td>\n",
       "      <td>31.000000</td>\n",
       "    </tr>\n",
       "  </tbody>\n",
       "</table>\n",
       "</div>"
      ],
      "text/plain": [
       "          victim_age       latitude      longitude       YEAR OCC  \\\n",
       "count  852950.000000  852950.000000  852950.000000  852950.000000   \n",
       "mean       29.742191      33.983232    -118.040106    2021.532406   \n",
       "std        21.799470       1.756263       6.089068       1.099147   \n",
       "min        -3.000000       0.000000    -118.667600    2020.000000   \n",
       "25%         5.000000      34.014100    -118.429700    2021.000000   \n",
       "50%        31.000000      34.058500    -118.321500    2022.000000   \n",
       "75%        45.000000      34.163200    -118.273900    2022.000000   \n",
       "max       120.000000      34.334300       0.000000    2023.000000   \n",
       "\n",
       "           MONTH OCC        DAY OCC  \n",
       "count  852950.000000  852950.000000  \n",
       "mean        6.419488      15.334084  \n",
       "std         3.380271       8.964670  \n",
       "min         1.000000       1.000000  \n",
       "25%         4.000000       7.000000  \n",
       "50%         6.000000      15.000000  \n",
       "75%         9.000000      23.000000  \n",
       "max        12.000000      31.000000  "
      ]
     },
     "execution_count": 49,
     "metadata": {},
     "output_type": "execute_result"
    }
   ],
   "source": [
    "df.describe()"
   ]
  },
  {
   "cell_type": "markdown",
   "metadata": {},
   "source": [
    "- Note: All crimes are unique, however when you remove a number of columns it appears that they are duplicates"
   ]
  },
  {
   "cell_type": "code",
   "execution_count": 28,
   "metadata": {},
   "outputs": [
    {
     "data": {
      "text/plain": [
       "weapon_description     556202\n",
       "victim_descent         112614\n",
       "victim_sex             112606\n",
       "premise_description       518\n",
       "date_occurred               0\n",
       "area_name                   0\n",
       "crime_description           0\n",
       "victim_age                  0\n",
       "location                    0\n",
       "latitude                    0\n",
       "longitude                   0\n",
       "dtype: int64"
      ]
     },
     "execution_count": 28,
     "metadata": {},
     "output_type": "execute_result"
    }
   ],
   "source": [
    "# Missing values\n",
    "df.isnull().sum().sort_values(ascending=False)"
   ]
  },
  {
   "cell_type": "markdown",
   "metadata": {},
   "source": [
    "## Features"
   ]
  },
  {
   "cell_type": "code",
   "execution_count": 32,
   "metadata": {},
   "outputs": [
    {
     "name": "stdout",
     "output_type": "stream",
     "text": [
      "victim_descent\n",
      "H    261145\n",
      "W    173440\n",
      "B    120896\n",
      "X     83214\n",
      "O     67532\n",
      "A     18700\n",
      "K      4579\n",
      "F      3580\n",
      "C      3313\n",
      "J      1181\n",
      "V       893\n",
      "I       805\n",
      "Z       426\n",
      "P       229\n",
      "U       170\n",
      "D        66\n",
      "G        63\n",
      "L        56\n",
      "S        46\n",
      "-         2\n",
      "Name: count, dtype: int64\n",
      "victim_sex\n",
      "M    351362\n",
      "F    313468\n",
      "X     75420\n",
      "H        93\n",
      "-         1\n",
      "Name: count, dtype: int64\n"
     ]
    }
   ],
   "source": [
    "print(df.victim_descent.value_counts())\n",
    "print(df.victim_sex.value_counts())"
   ]
  },
  {
   "cell_type": "code",
   "execution_count": 39,
   "metadata": {},
   "outputs": [
    {
     "data": {
      "text/html": [
       "<div>\n",
       "<style scoped>\n",
       "    .dataframe tbody tr th:only-of-type {\n",
       "        vertical-align: middle;\n",
       "    }\n",
       "\n",
       "    .dataframe tbody tr th {\n",
       "        vertical-align: top;\n",
       "    }\n",
       "\n",
       "    .dataframe thead th {\n",
       "        text-align: right;\n",
       "    }\n",
       "</style>\n",
       "<table border=\"1\" class=\"dataframe\">\n",
       "  <thead>\n",
       "    <tr style=\"text-align: right;\">\n",
       "      <th></th>\n",
       "      <th>count</th>\n",
       "    </tr>\n",
       "    <tr>\n",
       "      <th>premise_description</th>\n",
       "      <th></th>\n",
       "    </tr>\n",
       "  </thead>\n",
       "  <tbody>\n",
       "    <tr>\n",
       "      <th>STREET</th>\n",
       "      <td>216018</td>\n",
       "    </tr>\n",
       "    <tr>\n",
       "      <th>SINGLE FAMILY DWELLING</th>\n",
       "      <td>144367</td>\n",
       "    </tr>\n",
       "    <tr>\n",
       "      <th>MULTI-UNIT DWELLING (APARTMENT, DUPLEX, ETC)</th>\n",
       "      <td>104461</td>\n",
       "    </tr>\n",
       "    <tr>\n",
       "      <th>PARKING LOT</th>\n",
       "      <td>59551</td>\n",
       "    </tr>\n",
       "    <tr>\n",
       "      <th>OTHER BUSINESS</th>\n",
       "      <td>40412</td>\n",
       "    </tr>\n",
       "    <tr>\n",
       "      <th>...</th>\n",
       "      <td>...</td>\n",
       "    </tr>\n",
       "    <tr>\n",
       "      <th>MTA - SILVER LINE - LAC/USC MEDICAL CENTER</th>\n",
       "      <td>2</td>\n",
       "    </tr>\n",
       "    <tr>\n",
       "      <th>DEPT OF DEFENSE FACILITY</th>\n",
       "      <td>2</td>\n",
       "    </tr>\n",
       "    <tr>\n",
       "      <th>MTA - SILVER LINE - DOWNTOWN STREET STOPS</th>\n",
       "      <td>2</td>\n",
       "    </tr>\n",
       "    <tr>\n",
       "      <th>HORSE RACING/SANTA ANITA PARK*</th>\n",
       "      <td>2</td>\n",
       "    </tr>\n",
       "    <tr>\n",
       "      <th>TRAM/STREETCAR(BOXLIKE WAG ON RAILS)*</th>\n",
       "      <td>1</td>\n",
       "    </tr>\n",
       "  </tbody>\n",
       "</table>\n",
       "<p>306 rows × 1 columns</p>\n",
       "</div>"
      ],
      "text/plain": [
       "                                               count\n",
       "premise_description                                 \n",
       "STREET                                        216018\n",
       "SINGLE FAMILY DWELLING                        144367\n",
       "MULTI-UNIT DWELLING (APARTMENT, DUPLEX, ETC)  104461\n",
       "PARKING LOT                                    59551\n",
       "OTHER BUSINESS                                 40412\n",
       "...                                              ...\n",
       "MTA - SILVER LINE - LAC/USC MEDICAL CENTER         2\n",
       "DEPT OF DEFENSE FACILITY                           2\n",
       "MTA - SILVER LINE - DOWNTOWN STREET STOPS          2\n",
       "HORSE RACING/SANTA ANITA PARK*                     2\n",
       "TRAM/STREETCAR(BOXLIKE WAG ON RAILS)*              1\n",
       "\n",
       "[306 rows x 1 columns]"
      ]
     },
     "execution_count": 39,
     "metadata": {},
     "output_type": "execute_result"
    }
   ],
   "source": [
    "pd.set_option('display.max_rows', 10)\n",
    "pd.DataFrame(df.premise_description.value_counts())"
   ]
  },
  {
   "cell_type": "markdown",
   "metadata": {},
   "source": [
    "- What do '-' mean?\n",
    "- Code drop down using dictionary mapping\n",
    "- What does H mean?"
   ]
  },
  {
   "cell_type": "markdown",
   "metadata": {},
   "source": [
    "### Geolocation"
   ]
  },
  {
   "cell_type": "code",
   "execution_count": null,
   "metadata": {},
   "outputs": [],
   "source": []
  },
  {
   "cell_type": "code",
   "execution_count": null,
   "metadata": {},
   "outputs": [],
   "source": []
  },
  {
   "cell_type": "markdown",
   "metadata": {},
   "source": [
    "# Data Cleaning"
   ]
  },
  {
   "cell_type": "code",
   "execution_count": null,
   "metadata": {},
   "outputs": [],
   "source": [
    "# Remove victim_sex rows with missing data"
   ]
  },
  {
   "cell_type": "code",
   "execution_count": null,
   "metadata": {},
   "outputs": [],
   "source": [
    "# Remove victim_race rows with missing data"
   ]
  },
  {
   "cell_type": "code",
   "execution_count": null,
   "metadata": {},
   "outputs": [],
   "source": [
    "# Remove victim age = 0"
   ]
  },
  {
   "cell_type": "code",
   "execution_count": null,
   "metadata": {},
   "outputs": [],
   "source": []
  },
  {
   "cell_type": "code",
   "execution_count": null,
   "metadata": {},
   "outputs": [],
   "source": []
  },
  {
   "cell_type": "code",
   "execution_count": 5,
   "metadata": {},
   "outputs": [
    {
     "data": {
      "text/html": [
       "<div>\n",
       "<style scoped>\n",
       "    .dataframe tbody tr th:only-of-type {\n",
       "        vertical-align: middle;\n",
       "    }\n",
       "\n",
       "    .dataframe tbody tr th {\n",
       "        vertical-align: top;\n",
       "    }\n",
       "\n",
       "    .dataframe thead th {\n",
       "        text-align: right;\n",
       "    }\n",
       "</style>\n",
       "<table border=\"1\" class=\"dataframe\">\n",
       "  <thead>\n",
       "    <tr style=\"text-align: right;\">\n",
       "      <th></th>\n",
       "      <th>date_occurred</th>\n",
       "      <th>area_name</th>\n",
       "      <th>crime_description</th>\n",
       "      <th>victim_age</th>\n",
       "      <th>victim_sex</th>\n",
       "      <th>victim_descent</th>\n",
       "      <th>premise_description</th>\n",
       "      <th>weapon_description</th>\n",
       "      <th>location</th>\n",
       "      <th>latitude</th>\n",
       "      <th>longitude</th>\n",
       "      <th>year_occurred</th>\n",
       "      <th>month_occurred</th>\n",
       "      <th>day_occurred</th>\n",
       "    </tr>\n",
       "  </thead>\n",
       "  <tbody>\n",
       "    <tr>\n",
       "      <th>0</th>\n",
       "      <td>2020-01-08 22:30:00</td>\n",
       "      <td>Southwest</td>\n",
       "      <td>BATTERY - SIMPLE ASSAULT</td>\n",
       "      <td>36</td>\n",
       "      <td>F</td>\n",
       "      <td>B</td>\n",
       "      <td>SINGLE FAMILY DWELLING</td>\n",
       "      <td>STRONG-ARM (HANDS, FIST, FEET OR BODILY FORCE)</td>\n",
       "      <td>1100 W  39TH                         PL</td>\n",
       "      <td>34.0141</td>\n",
       "      <td>-118.2978</td>\n",
       "      <td>2020</td>\n",
       "      <td>1</td>\n",
       "      <td>8</td>\n",
       "    </tr>\n",
       "    <tr>\n",
       "      <th>1</th>\n",
       "      <td>2020-01-01 03:30:00</td>\n",
       "      <td>Central</td>\n",
       "      <td>BATTERY - SIMPLE ASSAULT</td>\n",
       "      <td>25</td>\n",
       "      <td>M</td>\n",
       "      <td>H</td>\n",
       "      <td>SIDEWALK</td>\n",
       "      <td>UNKNOWN WEAPON/OTHER WEAPON</td>\n",
       "      <td>700 S  HILL                         ST</td>\n",
       "      <td>34.0459</td>\n",
       "      <td>-118.2545</td>\n",
       "      <td>2020</td>\n",
       "      <td>1</td>\n",
       "      <td>1</td>\n",
       "    </tr>\n",
       "    <tr>\n",
       "      <th>2</th>\n",
       "      <td>2020-02-13 12:00:00</td>\n",
       "      <td>Central</td>\n",
       "      <td>SEX OFFENDER REGISTRANT OUT OF COMPLIANCE</td>\n",
       "      <td>0</td>\n",
       "      <td>X</td>\n",
       "      <td>X</td>\n",
       "      <td>POLICE FACILITY</td>\n",
       "      <td>NaN</td>\n",
       "      <td>200 E  6TH                          ST</td>\n",
       "      <td>34.0448</td>\n",
       "      <td>-118.2474</td>\n",
       "      <td>2020</td>\n",
       "      <td>2</td>\n",
       "      <td>13</td>\n",
       "    </tr>\n",
       "  </tbody>\n",
       "</table>\n",
       "</div>"
      ],
      "text/plain": [
       "        date_occurred  area_name                          crime_description  \\\n",
       "0 2020-01-08 22:30:00  Southwest                   BATTERY - SIMPLE ASSAULT   \n",
       "1 2020-01-01 03:30:00    Central                   BATTERY - SIMPLE ASSAULT   \n",
       "2 2020-02-13 12:00:00    Central  SEX OFFENDER REGISTRANT OUT OF COMPLIANCE   \n",
       "\n",
       "   victim_age victim_sex victim_descent     premise_description  \\\n",
       "0          36          F              B  SINGLE FAMILY DWELLING   \n",
       "1          25          M              H                SIDEWALK   \n",
       "2           0          X              X         POLICE FACILITY   \n",
       "\n",
       "                               weapon_description  \\\n",
       "0  STRONG-ARM (HANDS, FIST, FEET OR BODILY FORCE)   \n",
       "1                     UNKNOWN WEAPON/OTHER WEAPON   \n",
       "2                                             NaN   \n",
       "\n",
       "                                  location  latitude  longitude  \\\n",
       "0  1100 W  39TH                         PL   34.0141  -118.2978   \n",
       "1   700 S  HILL                         ST   34.0459  -118.2545   \n",
       "2   200 E  6TH                          ST   34.0448  -118.2474   \n",
       "\n",
       "   year_occurred  month_occurred  day_occurred  \n",
       "0           2020               1             8  \n",
       "1           2020               1             1  \n",
       "2           2020               2            13  "
      ]
     },
     "execution_count": 5,
     "metadata": {},
     "output_type": "execute_result"
    }
   ],
   "source": [
    "# Split 'date_occurred' into year, month and day.\n",
    "df['date_occurred'] = pd.to_datetime(df['date_occurred'])\n",
    "df['year_occurred'] = df['date_occurred'].dt.year\n",
    "df['month_occurred'] = df['date_occurred'].dt.month\n",
    "df['day_occurred'] = df['date_occurred'].dt.day\n",
    "df.head(3)"
   ]
  },
  {
   "cell_type": "code",
   "execution_count": 6,
   "metadata": {},
   "outputs": [],
   "source": [
    "df.drop(columns=['date_occurred'], inplace=True)"
   ]
  },
  {
   "cell_type": "markdown",
   "metadata": {},
   "source": [
    "# Baseline Model  - Logistic Regression"
   ]
  },
  {
   "cell_type": "code",
   "execution_count": 7,
   "metadata": {},
   "outputs": [],
   "source": [
    "X = df[['victim_age','latitude','longitude','day_occurred','month_occurred','year_occurred']]\n",
    "y = df['crime_description']"
   ]
  },
  {
   "cell_type": "code",
   "execution_count": 21,
   "metadata": {},
   "outputs": [
    {
     "data": {
      "text/plain": [
       "victim_age\n",
       " 0      211842\n",
       " 30      19421\n",
       " 35      19008\n",
       " 31      18603\n",
       " 29      18552\n",
       "         ...  \n",
       " 97         63\n",
       "-1          60\n",
       "-2          13\n",
       " 120         1\n",
       "-3           1\n",
       "Name: count, Length: 103, dtype: int64"
      ]
     },
     "execution_count": 21,
     "metadata": {},
     "output_type": "execute_result"
    }
   ],
   "source": [
    "df.victim_age.value_counts()"
   ]
  },
  {
   "cell_type": "code",
   "execution_count": 8,
   "metadata": {},
   "outputs": [],
   "source": [
    "X_train, X_test, y_train, y_test = train_test_split(X, y, test_size=0.2, random_state=42)"
   ]
  },
  {
   "cell_type": "code",
   "execution_count": 36,
   "metadata": {},
   "outputs": [],
   "source": [
    "# DATA CLEANING PIPES\n",
    "def isolate_age(X):\n",
    "    return X.apply(lambda age: age if 1 <= age <= 99 else None)\n",
    "\n",
    "def dropna(X):\n",
    "    return X.dropna()\n",
    "\n",
    "# Remove null values from Age\n",
    "dropna_pipe = FunctionTransformer(dropna)\n",
    "\n",
    "# select valid age range\n",
    "age_range_pipe = FunctionTransformer(isolate_age)\n"
   ]
  },
  {
   "cell_type": "code",
   "execution_count": 37,
   "metadata": {},
   "outputs": [],
   "source": [
    "# Preprocess numerical data\n",
    "norm_scaler = MinMaxScaler()\n",
    "preprocessor = ColumnTransformer(\n",
    "    transformers=[\n",
    "        #('dropna_pipe', dropna_pipe, ['victim_age']),\n",
    "        #('age_range_pipe', age_range_pipe, ['victim_age']),\n",
    "        ('num', norm_scaler, ['victim_age', 'latitude', 'longitude', 'day_occurred', 'month_occurred', 'year_occurred'])\n",
    "    ])"
   ]
  },
  {
   "cell_type": "code",
   "execution_count": 38,
   "metadata": {},
   "outputs": [],
   "source": [
    "# Logistic Regression model\n",
    "lr_model = Pipeline(steps=[\n",
    "    ('preprocessor', preprocessor),\n",
    "    ('classifier', LogisticRegression())\n",
    "])"
   ]
  },
  {
   "cell_type": "code",
   "execution_count": 39,
   "metadata": {},
   "outputs": [
    {
     "name": "stderr",
     "output_type": "stream",
     "text": [
      "/home/tomw/.pyenv/versions/3.10.6/envs/safe_live/lib/python3.10/site-packages/sklearn/linear_model/_logistic.py:460: ConvergenceWarning: lbfgs failed to converge (status=1):\n",
      "STOP: TOTAL NO. of ITERATIONS REACHED LIMIT.\n",
      "\n",
      "Increase the number of iterations (max_iter) or scale the data as shown in:\n",
      "    https://scikit-learn.org/stable/modules/preprocessing.html\n",
      "Please also refer to the documentation for alternative solver options:\n",
      "    https://scikit-learn.org/stable/modules/linear_model.html#logistic-regression\n",
      "  n_iter_i = _check_optimize_result(\n"
     ]
    },
    {
     "data": {
      "text/html": [
       "<style>#sk-container-id-1 {color: black;}#sk-container-id-1 pre{padding: 0;}#sk-container-id-1 div.sk-toggleable {background-color: white;}#sk-container-id-1 label.sk-toggleable__label {cursor: pointer;display: block;width: 100%;margin-bottom: 0;padding: 0.3em;box-sizing: border-box;text-align: center;}#sk-container-id-1 label.sk-toggleable__label-arrow:before {content: \"▸\";float: left;margin-right: 0.25em;color: #696969;}#sk-container-id-1 label.sk-toggleable__label-arrow:hover:before {color: black;}#sk-container-id-1 div.sk-estimator:hover label.sk-toggleable__label-arrow:before {color: black;}#sk-container-id-1 div.sk-toggleable__content {max-height: 0;max-width: 0;overflow: hidden;text-align: left;background-color: #f0f8ff;}#sk-container-id-1 div.sk-toggleable__content pre {margin: 0.2em;color: black;border-radius: 0.25em;background-color: #f0f8ff;}#sk-container-id-1 input.sk-toggleable__control:checked~div.sk-toggleable__content {max-height: 200px;max-width: 100%;overflow: auto;}#sk-container-id-1 input.sk-toggleable__control:checked~label.sk-toggleable__label-arrow:before {content: \"▾\";}#sk-container-id-1 div.sk-estimator input.sk-toggleable__control:checked~label.sk-toggleable__label {background-color: #d4ebff;}#sk-container-id-1 div.sk-label input.sk-toggleable__control:checked~label.sk-toggleable__label {background-color: #d4ebff;}#sk-container-id-1 input.sk-hidden--visually {border: 0;clip: rect(1px 1px 1px 1px);clip: rect(1px, 1px, 1px, 1px);height: 1px;margin: -1px;overflow: hidden;padding: 0;position: absolute;width: 1px;}#sk-container-id-1 div.sk-estimator {font-family: monospace;background-color: #f0f8ff;border: 1px dotted black;border-radius: 0.25em;box-sizing: border-box;margin-bottom: 0.5em;}#sk-container-id-1 div.sk-estimator:hover {background-color: #d4ebff;}#sk-container-id-1 div.sk-parallel-item::after {content: \"\";width: 100%;border-bottom: 1px solid gray;flex-grow: 1;}#sk-container-id-1 div.sk-label:hover label.sk-toggleable__label {background-color: #d4ebff;}#sk-container-id-1 div.sk-serial::before {content: \"\";position: absolute;border-left: 1px solid gray;box-sizing: border-box;top: 0;bottom: 0;left: 50%;z-index: 0;}#sk-container-id-1 div.sk-serial {display: flex;flex-direction: column;align-items: center;background-color: white;padding-right: 0.2em;padding-left: 0.2em;position: relative;}#sk-container-id-1 div.sk-item {position: relative;z-index: 1;}#sk-container-id-1 div.sk-parallel {display: flex;align-items: stretch;justify-content: center;background-color: white;position: relative;}#sk-container-id-1 div.sk-item::before, #sk-container-id-1 div.sk-parallel-item::before {content: \"\";position: absolute;border-left: 1px solid gray;box-sizing: border-box;top: 0;bottom: 0;left: 50%;z-index: -1;}#sk-container-id-1 div.sk-parallel-item {display: flex;flex-direction: column;z-index: 1;position: relative;background-color: white;}#sk-container-id-1 div.sk-parallel-item:first-child::after {align-self: flex-end;width: 50%;}#sk-container-id-1 div.sk-parallel-item:last-child::after {align-self: flex-start;width: 50%;}#sk-container-id-1 div.sk-parallel-item:only-child::after {width: 0;}#sk-container-id-1 div.sk-dashed-wrapped {border: 1px dashed gray;margin: 0 0.4em 0.5em 0.4em;box-sizing: border-box;padding-bottom: 0.4em;background-color: white;}#sk-container-id-1 div.sk-label label {font-family: monospace;font-weight: bold;display: inline-block;line-height: 1.2em;}#sk-container-id-1 div.sk-label-container {text-align: center;}#sk-container-id-1 div.sk-container {/* jupyter's `normalize.less` sets `[hidden] { display: none; }` but bootstrap.min.css set `[hidden] { display: none !important; }` so we also need the `!important` here to be able to override the default hidden behavior on the sphinx rendered scikit-learn.org. See: https://github.com/scikit-learn/scikit-learn/issues/21755 */display: inline-block !important;position: relative;}#sk-container-id-1 div.sk-text-repr-fallback {display: none;}</style><div id=\"sk-container-id-1\" class=\"sk-top-container\"><div class=\"sk-text-repr-fallback\"><pre>Pipeline(steps=[(&#x27;preprocessor&#x27;,\n",
       "                 ColumnTransformer(transformers=[(&#x27;num&#x27;, MinMaxScaler(),\n",
       "                                                  [&#x27;victim_age&#x27;, &#x27;latitude&#x27;,\n",
       "                                                   &#x27;longitude&#x27;, &#x27;day_occurred&#x27;,\n",
       "                                                   &#x27;month_occurred&#x27;,\n",
       "                                                   &#x27;year_occurred&#x27;])])),\n",
       "                (&#x27;classifier&#x27;, LogisticRegression())])</pre><b>In a Jupyter environment, please rerun this cell to show the HTML representation or trust the notebook. <br />On GitHub, the HTML representation is unable to render, please try loading this page with nbviewer.org.</b></div><div class=\"sk-container\" hidden><div class=\"sk-item sk-dashed-wrapped\"><div class=\"sk-label-container\"><div class=\"sk-label sk-toggleable\"><input class=\"sk-toggleable__control sk-hidden--visually\" id=\"sk-estimator-id-1\" type=\"checkbox\" ><label for=\"sk-estimator-id-1\" class=\"sk-toggleable__label sk-toggleable__label-arrow\">Pipeline</label><div class=\"sk-toggleable__content\"><pre>Pipeline(steps=[(&#x27;preprocessor&#x27;,\n",
       "                 ColumnTransformer(transformers=[(&#x27;num&#x27;, MinMaxScaler(),\n",
       "                                                  [&#x27;victim_age&#x27;, &#x27;latitude&#x27;,\n",
       "                                                   &#x27;longitude&#x27;, &#x27;day_occurred&#x27;,\n",
       "                                                   &#x27;month_occurred&#x27;,\n",
       "                                                   &#x27;year_occurred&#x27;])])),\n",
       "                (&#x27;classifier&#x27;, LogisticRegression())])</pre></div></div></div><div class=\"sk-serial\"><div class=\"sk-item sk-dashed-wrapped\"><div class=\"sk-label-container\"><div class=\"sk-label sk-toggleable\"><input class=\"sk-toggleable__control sk-hidden--visually\" id=\"sk-estimator-id-2\" type=\"checkbox\" ><label for=\"sk-estimator-id-2\" class=\"sk-toggleable__label sk-toggleable__label-arrow\">preprocessor: ColumnTransformer</label><div class=\"sk-toggleable__content\"><pre>ColumnTransformer(transformers=[(&#x27;num&#x27;, MinMaxScaler(),\n",
       "                                 [&#x27;victim_age&#x27;, &#x27;latitude&#x27;, &#x27;longitude&#x27;,\n",
       "                                  &#x27;day_occurred&#x27;, &#x27;month_occurred&#x27;,\n",
       "                                  &#x27;year_occurred&#x27;])])</pre></div></div></div><div class=\"sk-parallel\"><div class=\"sk-parallel-item\"><div class=\"sk-item\"><div class=\"sk-label-container\"><div class=\"sk-label sk-toggleable\"><input class=\"sk-toggleable__control sk-hidden--visually\" id=\"sk-estimator-id-3\" type=\"checkbox\" ><label for=\"sk-estimator-id-3\" class=\"sk-toggleable__label sk-toggleable__label-arrow\">num</label><div class=\"sk-toggleable__content\"><pre>[&#x27;victim_age&#x27;, &#x27;latitude&#x27;, &#x27;longitude&#x27;, &#x27;day_occurred&#x27;, &#x27;month_occurred&#x27;, &#x27;year_occurred&#x27;]</pre></div></div></div><div class=\"sk-serial\"><div class=\"sk-item\"><div class=\"sk-estimator sk-toggleable\"><input class=\"sk-toggleable__control sk-hidden--visually\" id=\"sk-estimator-id-4\" type=\"checkbox\" ><label for=\"sk-estimator-id-4\" class=\"sk-toggleable__label sk-toggleable__label-arrow\">MinMaxScaler</label><div class=\"sk-toggleable__content\"><pre>MinMaxScaler()</pre></div></div></div></div></div></div></div></div><div class=\"sk-item\"><div class=\"sk-estimator sk-toggleable\"><input class=\"sk-toggleable__control sk-hidden--visually\" id=\"sk-estimator-id-5\" type=\"checkbox\" ><label for=\"sk-estimator-id-5\" class=\"sk-toggleable__label sk-toggleable__label-arrow\">LogisticRegression</label><div class=\"sk-toggleable__content\"><pre>LogisticRegression()</pre></div></div></div></div></div></div></div>"
      ],
      "text/plain": [
       "Pipeline(steps=[('preprocessor',\n",
       "                 ColumnTransformer(transformers=[('num', MinMaxScaler(),\n",
       "                                                  ['victim_age', 'latitude',\n",
       "                                                   'longitude', 'day_occurred',\n",
       "                                                   'month_occurred',\n",
       "                                                   'year_occurred'])])),\n",
       "                ('classifier', LogisticRegression())])"
      ]
     },
     "execution_count": 39,
     "metadata": {},
     "output_type": "execute_result"
    }
   ],
   "source": [
    "lr_model.fit(X_train, y_train)"
   ]
  },
  {
   "cell_type": "code",
   "execution_count": 41,
   "metadata": {},
   "outputs": [
    {
     "name": "stdout",
     "output_type": "stream",
     "text": [
      "Accuracy: 0.1892666627586611\n"
     ]
    }
   ],
   "source": [
    "accuracy = lr_model.score(X_test, y_test)\n",
    "print(\"Accuracy:\", accuracy)"
   ]
  },
  {
   "cell_type": "code",
   "execution_count": 42,
   "metadata": {},
   "outputs": [],
   "source": [
    "y_pred = lr_model.predict(X_test)"
   ]
  },
  {
   "cell_type": "code",
   "execution_count": 44,
   "metadata": {},
   "outputs": [
    {
     "name": "stdout",
     "output_type": "stream",
     "text": [
      "Confusion Matrix:\n",
      "[[0 0 0 ... 0 0 0]\n",
      " [0 0 0 ... 0 0 0]\n",
      " [0 0 0 ... 0 0 0]\n",
      " ...\n",
      " [0 0 0 ... 0 0 0]\n",
      " [0 0 0 ... 0 0 0]\n",
      " [0 0 0 ... 0 0 0]]\n"
     ]
    }
   ],
   "source": [
    "conf_matrix = confusion_matrix(y_test, y_pred)\n",
    "print(\"Confusion Matrix:\")\n",
    "print(conf_matrix)"
   ]
  },
  {
   "cell_type": "code",
   "execution_count": 45,
   "metadata": {},
   "outputs": [
    {
     "name": "stderr",
     "output_type": "stream",
     "text": [
      "/home/tomw/.pyenv/versions/3.10.6/envs/safe_live/lib/python3.10/site-packages/sklearn/metrics/_classification.py:1469: UndefinedMetricWarning: Precision and F-score are ill-defined and being set to 0.0 in labels with no predicted samples. Use `zero_division` parameter to control this behavior.\n",
      "  _warn_prf(average, modifier, msg_start, len(result))\n",
      "/home/tomw/.pyenv/versions/3.10.6/envs/safe_live/lib/python3.10/site-packages/sklearn/metrics/_classification.py:1469: UndefinedMetricWarning: Precision and F-score are ill-defined and being set to 0.0 in labels with no predicted samples. Use `zero_division` parameter to control this behavior.\n",
      "  _warn_prf(average, modifier, msg_start, len(result))\n"
     ]
    },
    {
     "name": "stdout",
     "output_type": "stream",
     "text": [
      "Classification Report:\n",
      "                                                          precision    recall  f1-score   support\n",
      "\n",
      "                                                   ARSON       0.00      0.00      0.00       473\n",
      "            ASSAULT WITH DEADLY WEAPON ON POLICE OFFICER       0.00      0.00      0.00       209\n",
      "          ASSAULT WITH DEADLY WEAPON, AGGRAVATED ASSAULT       0.00      0.00      0.00      9717\n",
      "                                       ATTEMPTED ROBBERY       0.00      0.00      0.00       883\n",
      "                                BATTERY - SIMPLE ASSAULT       0.11      0.56      0.18     13639\n",
      "                                BATTERY ON A FIREFIGHTER       0.00      0.00      0.00        54\n",
      "                                 BATTERY POLICE (SIMPLE)       0.00      0.00      0.00       457\n",
      "                             BATTERY WITH SEXUAL CONTACT       0.00      0.00      0.00       727\n",
      "BEASTIALITY, CRIME AGAINST NATURE SEXUAL ASSLT WITH ANIM       0.00      0.00      0.00         3\n",
      "                                 BIKE - ATTEMPTED STOLEN       0.00      0.00      0.00         1\n",
      "                                           BIKE - STOLEN       0.00      0.00      0.00      1428\n",
      "                          BLOCKING DOOR INDUCTION CENTER       0.00      0.00      0.00         1\n",
      "                                           BOAT - STOLEN       0.00      0.00      0.00        21\n",
      "                                              BOMB SCARE       0.00      0.00      0.00        77\n",
      "                                         BRANDISH WEAPON       0.00      0.00      0.00      2673\n",
      "                                          BUNCO, ATTEMPT       0.00      0.00      0.00        52\n",
      "                                      BUNCO, GRAND THEFT       0.00      0.00      0.00      1108\n",
      "                                      BUNCO, PETTY THEFT       0.00      0.00      0.00       402\n",
      "                                                BURGLARY       0.03      0.01      0.01     10504\n",
      "                                   BURGLARY FROM VEHICLE       0.00      0.00      0.00     10272\n",
      "                        BURGLARY FROM VEHICLE, ATTEMPTED       0.00      0.00      0.00       122\n",
      "                                     BURGLARY, ATTEMPTED       0.00      0.00      0.00       696\n",
      "                                       CHILD ABANDONMENT       0.00      0.00      0.00         6\n",
      "             CHILD ABUSE (PHYSICAL) - AGGRAVATED ASSAULT       0.00      0.00      0.00       102\n",
      "                 CHILD ABUSE (PHYSICAL) - SIMPLE ASSAULT       0.00      0.00      0.00       672\n",
      "                          CHILD ANNOYING (17YRS & UNDER)       0.00      0.00      0.00       194\n",
      "                          CHILD NEGLECT (SEE 300 W.I.C.)       0.00      0.00      0.00       221\n",
      "                                       CHILD PORNOGRAPHY       0.00      0.00      0.00        53\n",
      "                                          CHILD STEALING       0.00      0.00      0.00        82\n",
      "                                              CONSPIRACY       0.00      0.00      0.00         4\n",
      "                                       CONTEMPT OF COURT       0.00      0.00      0.00       511\n",
      "                                            CONTRIBUTING       0.00      0.00      0.00         7\n",
      "                                             COUNTERFEIT       0.00      0.00      0.00        20\n",
      "                   CREDIT CARDS, FRAUD USE ($950 & UNDER       0.00      0.00      0.00        15\n",
      "                CREDIT CARDS, FRAUD USE ($950.01 & OVER)       0.00      0.00      0.00        28\n",
      "                                       CRIMINAL HOMICIDE       0.00      0.00      0.00       308\n",
      "                  CRIMINAL THREATS - NO WEAPON DISPLAYED       0.00      0.00      0.00      3601\n",
      "CRM AGNST CHLD (13 OR UNDER) (14-15 & SUSP 10 YRS OLDER)       0.00      0.00      0.00       337\n",
      "                                      CRUELTY TO ANIMALS       0.00      0.00      0.00        48\n",
      "    DEFRAUDING INNKEEPER/THEFT OF SERVICES, $950 & UNDER       0.00      0.00      0.00        54\n",
      "    DEFRAUDING INNKEEPER/THEFT OF SERVICES, OVER $950.01       0.00      0.00      0.00        10\n",
      "                          DISCHARGE FIREARMS/SHOTS FIRED       0.00      0.00      0.00       492\n",
      "                        DISHONEST EMPLOYEE - GRAND THEFT       0.00      0.00      0.00         8\n",
      "                        DISHONEST EMPLOYEE - PETTY THEFT       0.00      0.00      0.00         4\n",
      "                      DISHONEST EMPLOYEE ATTEMPTED THEFT       0.00      0.00      0.00         1\n",
      "                                          DISRUPT SCHOOL       0.00      0.00      0.00         2\n",
      "                                    DISTURBING THE PEACE       0.00      0.00      0.00       308\n",
      "                        DOCUMENT FORGERY / STOLEN FELONY       0.00      0.00      0.00       569\n",
      "                       DOCUMENT WORTHLESS ($200 & UNDER)       0.00      0.00      0.00         3\n",
      "                     DOCUMENT WORTHLESS ($200.01 & OVER)       0.00      0.00      0.00        12\n",
      "                    DRIVING WITHOUT OWNER CONSENT (DWOC)       0.00      0.00      0.00        32\n",
      "                                       DRUGS, TO A MINOR       0.00      0.00      0.00         1\n",
      "                                              DRUNK ROLL       0.00      0.00      0.00         9\n",
      "              EMBEZZLEMENT, GRAND THEFT ($950.01 & OVER)       0.00      0.00      0.00       691\n",
      "                EMBEZZLEMENT, PETTY THEFT ($950 & UNDER)       0.00      0.00      0.00        19\n",
      "                                               EXTORTION       0.00      0.00      0.00       390\n",
      "                                     FAILURE TO DISPERSE       0.00      0.00      0.00         1\n",
      "                                        FAILURE TO YIELD       0.00      0.00      0.00       277\n",
      "                                      FALSE IMPRISONMENT       0.00      0.00      0.00        64\n",
      "                                     FALSE POLICE REPORT       0.00      0.00      0.00        33\n",
      "      FIREARMS EMERGENCY PROTECTIVE ORDER (FIREARMS EPO)       0.00      0.00      0.00         2\n",
      "                FIREARMS RESTRAINING ORDER (FIREARMS RO)       0.00      0.00      0.00         3\n",
      "                           GRAND THEFT / INSURANCE FRAUD       0.00      0.00      0.00         1\n",
      "                 HUMAN TRAFFICKING - COMMERCIAL SEX ACTS       0.00      0.00      0.00        73\n",
      "               HUMAN TRAFFICKING - INVOLUNTARY SERVITUDE       0.00      0.00      0.00        18\n",
      "                                         ILLEGAL DUMPING       0.00      0.00      0.00        19\n",
      "            INCEST (SEXUAL ACTS BETWEEN BLOOD RELATIVES)       0.00      0.00      0.00         3\n",
      "                                         INCITING A RIOT       0.00      0.00      0.00         1\n",
      "                                       INDECENT EXPOSURE       0.00      0.00      0.00       203\n",
      "                   INTIMATE PARTNER - AGGRAVATED ASSAULT       0.00      0.00      0.00      2416\n",
      "                       INTIMATE PARTNER - SIMPLE ASSAULT       0.00      0.00      0.00      8567\n",
      "                                              KIDNAPPING       0.00      0.00      0.00       152\n",
      "                              KIDNAPPING - GRAND ATTEMPT       0.00      0.00      0.00        42\n",
      "                 LETTERS, LEWD  -  TELEPHONE CALLS, LEWD       0.00      0.00      0.00      1452\n",
      "                                            LEWD CONDUCT       0.00      0.00      0.00       127\n",
      "                         LEWD/LASCIVIOUS ACTS WITH CHILD       0.00      0.00      0.00        12\n",
      "                                                LYNCHING       0.00      0.00      0.00         5\n",
      "                                    LYNCHING - ATTEMPTED       0.00      0.00      0.00         3\n",
      "                                 MANSLAUGHTER, NEGLIGENT       0.00      0.00      0.00         1\n",
      "                                         ORAL COPULATION       0.00      0.00      0.00       120\n",
      "                                           OTHER ASSAULT       0.00      0.00      0.00       755\n",
      "                               OTHER MISCELLANEOUS CRIME       0.00      0.00      0.00      1268\n",
      "                                               PANDERING       0.00      0.00      0.00        33\n",
      "                                             PEEPING TOM       0.00      0.00      0.00        64\n",
      "                               PETTY THEFT - AUTO REPAIR       0.00      0.00      0.00         2\n",
      "                                              PICKPOCKET       0.00      0.00      0.00       480\n",
      "                                     PICKPOCKET, ATTEMPT       0.00      0.00      0.00         2\n",
      "                                                 PIMPING       0.00      0.00      0.00        30\n",
      "                                                 PROWLER       0.00      0.00      0.00        30\n",
      "                                         PURSE SNATCHING       0.00      0.00      0.00        18\n",
      "                               PURSE SNATCHING - ATTEMPT       0.00      0.00      0.00         1\n",
      "                                         RAPE, ATTEMPTED       0.00      0.00      0.00        60\n",
      "                                          RAPE, FORCIBLE       0.00      0.00      0.00       652\n",
      "                                        RECKLESS DRIVING       0.00      0.00      0.00        48\n",
      "REPLICA FIREARMS(SALE,DISPLAY,MANUFACTURE OR DISTRIBUTE)       0.00      0.00      0.00         2\n",
      "                                        RESISTING ARREST       0.00      0.00      0.00       166\n",
      "                                                 ROBBERY       0.00      0.00      0.00      5795\n",
      "               SEX OFFENDER REGISTRANT OUT OF COMPLIANCE       0.00      0.00      0.00       165\n",
      "SEX,UNLAWFUL(INC MUTUAL CONSENT, PENETRATION W/ FRGN OBJ       0.00      0.00      0.00       171\n",
      "                     SEXUAL PENETRATION W/FOREIGN OBJECT       0.00      0.00      0.00       247\n",
      "                                   SHOPLIFTING - ATTEMPT       0.00      0.00      0.00        15\n",
      "                SHOPLIFTING - PETTY THEFT ($950 & UNDER)       0.00      0.00      0.00      4174\n",
      "                SHOPLIFTING-GRAND THEFT ($950.01 & OVER)       0.00      0.00      0.00       881\n",
      "                       SHOTS FIRED AT INHABITED DWELLING       0.00      0.00      0.00       287\n",
      "        SHOTS FIRED AT MOVING VEHICLE, TRAIN OR AIRCRAFT       0.00      0.00      0.00        74\n",
      " SODOMY/SEXUAL CONTACT B/W PENIS OF ONE PERS TO ANUS OTH       0.00      0.00      0.00        97\n",
      "                                                STALKING       0.00      0.00      0.00       119\n",
      "                             TELEPHONE PROPERTY - DAMAGE       0.00      0.00      0.00         2\n",
      "                      THEFT FROM MOTOR VEHICLE - ATTEMPT       0.00      0.00      0.00       156\n",
      "     THEFT FROM MOTOR VEHICLE - GRAND ($950.01 AND OVER)       0.00      0.00      0.00      6135\n",
      "         THEFT FROM MOTOR VEHICLE - PETTY ($950 & UNDER)       0.00      0.00      0.00      6583\n",
      "                             THEFT FROM PERSON - ATTEMPT       0.00      0.00      0.00        22\n",
      "                                       THEFT OF IDENTITY       0.15      0.53      0.23     10809\n",
      "                                   THEFT PLAIN - ATTEMPT       0.00      0.00      0.00        98\n",
      "                      THEFT PLAIN - PETTY ($950 & UNDER)       0.00      0.00      0.00      8623\n",
      "                           THEFT, COIN MACHINE - ATTEMPT       0.00      0.00      0.00         1\n",
      "            THEFT, COIN MACHINE - GRAND ($950.01 & OVER)       0.00      0.00      0.00         1\n",
      "              THEFT, COIN MACHINE - PETTY ($950 & UNDER)       0.00      0.00      0.00         9\n",
      "                                           THEFT, PERSON       0.00      0.00      0.00       784\n",
      "THEFT-GRAND ($950.01 & OVER)EXCPT,GUNS,FOWL,LIVESTK,PROD       0.00      0.00      0.00      5505\n",
      "                         THREATENING PHONE CALLS/LETTERS       0.00      0.00      0.00        84\n",
      "                       THROWING OBJECT AT MOVING VEHICLE       0.00      0.00      0.00       130\n",
      "                         TILL TAP - PETTY ($950 & UNDER)       0.00      0.00      0.00         3\n",
      "                                             TRESPASSING       0.17      0.01      0.02      2460\n",
      "                            UNAUTHORIZED COMPUTER ACCESS       0.00      0.00      0.00       105\n",
      " VANDALISM - FELONY ($400 & OVER, ALL CHURCH VANDALISMS)       0.05      0.07      0.06     10369\n",
      "                VANDALISM - MISDEAMEANOR ($399 OR UNDER)       0.00      0.00      0.00      4402\n",
      "                                VEHICLE - ATTEMPT STOLEN       0.00      0.00      0.00       617\n",
      "                                        VEHICLE - STOLEN       0.43      1.00      0.60     18233\n",
      "VEHICLE, STOLEN - OTHER (MOTORIZED SCOOTERS, BIKES, ETC)       0.00      0.00      0.00       360\n",
      "                                VIOLATION OF COURT ORDER       0.00      0.00      0.00      1134\n",
      "                          VIOLATION OF RESTRAINING ORDER       0.00      0.00      0.00      2209\n",
      "                VIOLATION OF TEMPORARY RESTRAINING ORDER       0.00      0.00      0.00       184\n",
      "                              WEAPONS POSSESSION/BOMBING       0.00      0.00      0.00         8\n",
      "\n",
      "                                                accuracy                           0.19    170590\n",
      "                                               macro avg       0.01      0.02      0.01    170590\n",
      "                                            weighted avg       0.07      0.19      0.10    170590\n",
      "\n"
     ]
    },
    {
     "name": "stderr",
     "output_type": "stream",
     "text": [
      "/home/tomw/.pyenv/versions/3.10.6/envs/safe_live/lib/python3.10/site-packages/sklearn/metrics/_classification.py:1469: UndefinedMetricWarning: Precision and F-score are ill-defined and being set to 0.0 in labels with no predicted samples. Use `zero_division` parameter to control this behavior.\n",
      "  _warn_prf(average, modifier, msg_start, len(result))\n"
     ]
    }
   ],
   "source": [
    "class_report = classification_report(y_test, y_pred)\n",
    "print(\"Classification Report:\")\n",
    "print(class_report)"
   ]
  },
  {
   "cell_type": "code",
   "execution_count": null,
   "metadata": {},
   "outputs": [],
   "source": []
  }
 ],
 "metadata": {
  "kernelspec": {
   "display_name": "safe_live",
   "language": "python",
   "name": "python3"
  },
  "language_info": {
   "codemirror_mode": {
    "name": "ipython",
    "version": 3
   },
   "file_extension": ".py",
   "mimetype": "text/x-python",
   "name": "python",
   "nbconvert_exporter": "python",
   "pygments_lexer": "ipython3",
   "version": "3.10.6"
  }
 },
 "nbformat": 4,
 "nbformat_minor": 2
}
